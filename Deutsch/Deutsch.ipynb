{
 "cells": [
  {
   "cell_type": "markdown",
   "metadata": {},
   "source": [
    "# Quantum Computing with ProjectQ \n",
    "\n",
    "### Huihuo Zheng  @ ALCF\n",
    "### Dec 11, 2018 \n",
    "\n",
    "Email: huihuo.zheng@anl.gov\n",
    "\n",
    "git clone https://github.com/zhenghh04/QCWorkshop.git\n",
    "or \n",
    "git pull \n",
    "\n",
    "jupyter-notebook QCWorkshop/Deutsch/Deutsch.ipynb\n",
    "\n",
    "------------------------------------------------------\n",
    "\n",
    "## Quantum Program language/frameworks\n",
    "* ProjectQ \n",
    "* Microsoft Q#\n",
    "* IBM Qsikit \n",
    "* ...\n",
    "\n",
    "List of existing quantum computing language: https://en.wikipedia.org/wiki/Quantum_programming\n",
    "\n",
    "\n",
    "## ProjectQ\n",
    "ProjectQ is an open-source software framework for quantum computing started at ETH Zuric (Matthias Troyer et at). It aims at providing tools which facilitate inventing, implementing, testing, debugging, and running quantum algorithms using either classical hardware or actual quantum devices.\n",
    "\n",
    "Main features: \n",
    "\n",
    "* Use Python as the high level language to write quantum programs\n",
    "* Use various hardware and software back-ends\n",
    "* FermiLib for solving quantum chemistry progmes (fermionic problems) on a quantum computer\n",
    "\n",
    "\n",
    "### Compiler Framework\n",
    "<img src=\"http://2017.projectq.ch/wordpress/wp-content/uploads/2017/03/compiler_overview.gif\">\n",
    "\n",
    "The compilation framework consists of a main compiler engine, which executes a user-defined sequence of compilation steps by sending the circuit through a chain of so-called compiler engines. Each compiler engine manipulates the circuit to, e.g., reduce the number of gates or quantum bits required to run the quantum program. Engines further down the stack become more back-end-specific and take care of the mapping of the logical circuit to the layout of the back-end.\n",
    "\n",
    "After the circuit has passed through all compiler engines, it gets sent to the back-end. The back-end may be actual quantum hardware, a simulator run on a classical computer, a circuit drawing engine, etc.\n",
    "\n",
    "### Back-ends\n",
    "After the circuit has passed through all compiler engines, it gets sent to the back-end. The back-end may be \n",
    "* actual quantum hardware (superconducting circuits, topological qubits, ion traps, spin qubits, and photonic qubits, etc); Current supported hardward (IBM Quantum Experience: IBM’s 5-qubit quantum computer.\n",
    "* simulator run on a classical computer; \n",
    "* circuit drawing engine. \n",
    "\n",
    "### References\n",
    "\n",
    "https://projectq.ch/\n",
    "\n",
    "https://arxiv.org/abs/1612.08091\n",
    "\n",
    "https://github.com/ProjectQ-Framework/ProjectQ"
   ]
  },
  {
   "cell_type": "markdown",
   "metadata": {},
   "source": [
    "## Contents of Tutorials\n",
    "\n",
    "* Fundamental gate operations\n",
    "    * NOT\n",
    "    * Hadamard \n",
    "    * CNOT\n",
    "* Quantum Random Number Generator\n",
    "\n",
    "* Bell state and quantum teleportation\n",
    "\n",
    "* Deutsch-Jozsa algorithm (Quantum Oracle)\n",
    "\n",
    "* Quantum Fourier Transformation (exercise)\n",
    "\n",
    "## Goal of this tutorials\n",
    "\n",
    "* Get familar with qubit, gates, superposition, measurement, probability;  \n",
    "\n",
    "* Know how to implement given quantum circuits using projectq.\n"
   ]
  },
  {
   "cell_type": "code",
   "execution_count": 1,
   "metadata": {},
   "outputs": [],
   "source": [
    "from __future__ import print_function\n",
    "#Importing projectQ gates\n",
    "from projectq import MainEngine\n",
    "from projectq.ops import H, NOT, CNOT, Measure #Z, CZ, Swap, T, ...etc, Entangled, QFT\n",
    "import matplotlib.pylab as plt\n",
    "import numpy as np\n",
    "\n",
    "#use simulator engine \n",
    "eng = MainEngine()\n",
    "\n",
    "## To use IBM quantum experience backend. \n",
    "#from projectq.backends import IBMBackend\n",
    "#eng = MainEngine(IBMBackend(),\n",
    "#                 engine_list=projectq.setups.ibm.get_engine_list())\n",
    "#To use Quantum Experience, please register an account\n",
    "#    https://quantumexperience.ng.bluemix.net/qx/signup\n",
    "\n",
    "def print_wavefunction(qureg, opt='nonzero'):\n",
    "    ''' \n",
    "        opt=nonzero: only print terms with nonzero amplitude\n",
    "        opt=all:  print all terms\n",
    "    '''\n",
    "  # print wavefunction\n",
    "    eng.flush()\n",
    "    nqubits=len(qureg)\n",
    "    mask='0%sb'%nqubits\n",
    "    #Make sure all previous commands have passed through the compilation chain.\n",
    "    print(\"   |Psi> = \", end='')\n",
    "    i=0\n",
    "    for s in range(2 ** nqubits):\n",
    "        bit_string = format(s, mask)\n",
    "        result=eng.backend.get_amplitude(bit_string, qureg)\n",
    "        if (opt.find('all')!=-1):\n",
    "            print(\"%.1f|%s> \" % (result.real,bit_string), end='')\n",
    "            if (s<2**nqubits-1):\n",
    "                print(\"+\", end='')\n",
    "        else:       \n",
    "            if (abs(result)!=0.0):\n",
    "                if i != 0 and result.real >0: print(\"+ \", end='')\n",
    "                if (result.imag==0):\n",
    "                    print(\"%.2f|%s> \" % (result.real,bit_string), end='')\n",
    "                elif (result.imag>0):\n",
    "                    print(\"(%.2f+%.2fi)|%s> \" % (result.real, result.imag,bit_string), end='')\n",
    "                else:\n",
    "                    print(\"(%.2f%.2fi)|%s> \" % (result.real, result.imag,bit_string), end='')\n",
    "\n",
    "                i=i+1\n",
    "    print()\n",
    "    return\n",
    "\n",
    "def measure_qubits(qureg):\n",
    "    Measure | qureg\n",
    "    eng.flush()\n",
    "    i=0\n",
    "    try:\n",
    "        for q in qureg:\n",
    "            print(\"   Measured Q{}: |{}>\".format(i, int(q)))### multiple qubit case\n",
    "            i=i+1\n",
    "    except:\n",
    "        print(\"   Measured: |{}>\".format(int(qureg))) ### single qubit\n",
    "    return "
   ]
  },
  {
   "cell_type": "markdown",
   "metadata": {},
   "source": [
    "## Fundamental gate operations\n",
    "### Allocating two qubits\n",
    "We initialize a two qubit state: \n",
    "   \n",
    "   $|\\Psi\\rangle = |00\\rangle$\n",
    "\n",
    "both are at |0> state."
   ]
  },
  {
   "cell_type": "code",
   "execution_count": 2,
   "metadata": {},
   "outputs": [
    {
     "name": "stdout",
     "output_type": "stream",
     "text": [
      "\n",
      "*Allocate 2 qubits\n",
      "   |Psi> = 1.0|00> +0.0|01> +0.0|10> +0.0|11> \n"
     ]
    }
   ],
   "source": [
    "# initialize variables\n",
    "from projectq import MainEngine\n",
    "\n",
    "eng = MainEngine() ## engine\n",
    "nqubits=2\n",
    "print(\"\\n*Allocate %s qubits\" %nqubits)\n",
    "\n",
    "qureg = eng.allocate_qureg(nqubits) ### allocate_qubit() -- single qubit\n",
    "## allocate 2 qubit, stored at qureg, \n",
    "# the qubit could be accessed as qureg[0], qureg[1]\n",
    "print_wavefunction(qureg, 'all')"
   ]
  },
  {
   "cell_type": "markdown",
   "metadata": {},
   "source": [
    "## NOT gate (or X gate)\n",
    "\n",
    "* NOT gate transformation\n",
    "\n",
    "    $|0\\rangle \\longrightarrow |1\\rangle$\n",
    "\n",
    "    $|1\\rangle \\longrightarrow |0\\rangle$\n",
    "\n",
    "\n",
    "* Matrix representation is \n",
    "\n",
    "    NOT = $\\left(\n",
    "    \\begin{matrix}\n",
    "    0 & 1 \\\\\n",
    "    1 & 0\n",
    "    \\end{matrix}\\right)\n",
    "    $. \n",
    "This is the Pauli $\\sigma_x$ matrix."
   ]
  },
  {
   "cell_type": "code",
   "execution_count": 3,
   "metadata": {},
   "outputs": [
    {
     "name": "stdout",
     "output_type": "stream",
     "text": [
      "*Initial state\n",
      "   |Psi> = 1.00|00> \n",
      "\n",
      "*Apply NOT gate to Q0\n",
      "   |Psi> = 1.00|10> \n"
     ]
    }
   ],
   "source": [
    "print(\"*Initial state\")\n",
    "print_wavefunction(qureg)\n",
    "print(\"\\n*Apply NOT gate to Q0\")\n",
    "NOT | qureg[0] # Syntax for gate operation is : op | qubit\n",
    "print_wavefunction(qureg)"
   ]
  },
  {
   "cell_type": "code",
   "execution_count": 4,
   "metadata": {},
   "outputs": [
    {
     "name": "stdout",
     "output_type": "stream",
     "text": [
      "\n",
      "*Apply NOT gate to Q1\n",
      "   |Psi> = 1.00|11> \n"
     ]
    }
   ],
   "source": [
    "print(\"\\n*Apply NOT gate to Q1\")\n",
    "NOT | qureg[1]\n",
    "print_wavefunction(qureg)"
   ]
  },
  {
   "cell_type": "markdown",
   "metadata": {},
   "source": [
    "--------------------------\n",
    "## Hadamard (H) gate\n",
    "\n",
    "* Hadamard transformation\n",
    "\n",
    "    $|0\\rangle \\longrightarrow \\frac{1}{\\sqrt{2}}(|0\\rangle + |1\\rangle)$ \n",
    "\n",
    "    $|1\\rangle \\longrightarrow \\frac{1}{\\sqrt{2}}(|0\\rangle - |1\\rangle)$ \n",
    "\n",
    "* The matrix representation is: \n",
    "\n",
    "    H = $\n",
    "\\frac{1}{\\sqrt{2}}\\left(\n",
    "\\begin{matrix}\n",
    "1 & 1 \\\\\n",
    "1 & -1\n",
    "\\end{matrix}\\right)\n",
    "$\n",
    "\n",
    "* Two Hadamard gate together equals to identify\n",
    "\n",
    "    $H\\times H=I$\n",
    "\n",
    "The circuit is \n",
    "<img src=\"hadamard.png\">"
   ]
  },
  {
   "cell_type": "code",
   "execution_count": 5,
   "metadata": {},
   "outputs": [
    {
     "name": "stdout",
     "output_type": "stream",
     "text": [
      "*Initial state\n",
      "   |Psi> = 1.00|00> \n",
      "\n",
      "*Apply Hadamard gate to Q0\n",
      "   |Psi> = 0.71|00> + 0.71|10> \n",
      "\n",
      "*Apply Hadamard gate to Q1\n",
      "   |Psi> = 0.50|00> + 0.50|01> + 0.50|10> + 0.50|11> \n",
      "\n",
      "*Measure the state\n",
      "   |Psi> = 1.00|01> \n"
     ]
    },
    {
     "name": "stderr",
     "output_type": "stream",
     "text": [
      "/anaconda3/lib/python3.6/site-packages/projectq/ops/_gates.py:286: UserWarning: Pending syntax change in future versions of ProjectQ: \n",
      " Measure will be a single qubit gate only. Use `All(Measure) | qureg` instead to measure multiple qubits.\n",
      "  warnings.warn(\"Pending syntax change in future versions of \"\n"
     ]
    }
   ],
   "source": [
    "from projectq import MainEngine\n",
    "eng = MainEngine() ## engine\n",
    "nqubits=2\n",
    "qureg = eng.allocate_qureg(nqubits) \n",
    "print(\"*Initial state\")\n",
    "print_wavefunction(qureg)\n",
    "print(\"\\n*Apply Hadamard gate to Q0\")\n",
    "H | qureg[0]\n",
    "print_wavefunction(qureg)\n",
    "print(\"\\n*Apply Hadamard gate to Q1\")\n",
    "H | qureg[1]\n",
    "print_wavefunction(qureg)\n",
    "Measure | qureg\n",
    "print(\"\\n*Measure the state\")\n",
    "print_wavefunction(qureg)\n",
    "del(qureg)"
   ]
  },
  {
   "cell_type": "markdown",
   "metadata": {},
   "source": [
    "---------------\n",
    "## CNOT\n",
    "\n",
    "Control NOT: apply NOT to a qubit if the control qubit is at state |1>: \n",
    "\n",
    "The operation of CNOT is as follows (the first qubit is the control qubit):\n",
    "\n",
    "\n",
    "$\n",
    "\\quad |\\underline{0}0\\rangle \\longrightarrow|\\underline{0}0\\rangle\\\\\n",
    "\\quad |\\underline{0}1\\rangle  \\longrightarrow |\\underline{0}1\\rangle\\\\\n",
    "\\quad |\\underline{1}0\\rangle  \\longrightarrow|\\underline{1}1\\rangle\\\\\n",
    "\\quad |\\underline{1}1\\rangle  \\longrightarrow |\\underline{1}0\\rangle\n",
    "$\n",
    "\n",
    "Matrix representation of CNOT operator is: \n",
    "\n",
    "CNOT = $\n",
    "\\left(\n",
    "\\begin{matrix}\n",
    "1 & 0 & 0 & 0 \\\\\n",
    "0 & 1 & 0 & 0 \\\\\n",
    "0 & 0 & 0 & 1 \\\\\n",
    "0 & 0 & 1 & 0 \n",
    "\\end{matrix}\\right)\n",
    "$\n",
    "\n",
    "The circuit for the CNOT gate is: \n",
    "![](cnot.png)"
   ]
  },
  {
   "cell_type": "code",
   "execution_count": 6,
   "metadata": {},
   "outputs": [
    {
     "name": "stdout",
     "output_type": "stream",
     "text": [
      "*Allocate 2 qubits: \n",
      "   |Psi> = 1.00|00> \n",
      "\n",
      "*CNOT Q0->Q1\n",
      "   |Psi> = 1.00|00> \n",
      "\n",
      "*Apply NOT gate to Q0 \n",
      "   |Psi> = 1.00|10> \n",
      "\n",
      "*CNOT Q0->Q1\n",
      "   |Psi> = 1.00|11> \n",
      "\n",
      "*CNOT Q1->Q0\n",
      "   |Psi> = 1.00|01> \n"
     ]
    }
   ],
   "source": [
    "print(\"*Allocate 2 qubits: \")\n",
    "nqubits=2\n",
    "qureg = eng.allocate_qureg(nqubits)\n",
    "\n",
    "print_wavefunction(qureg)\n",
    "print(\"\\n*CNOT Q0->Q1\")\n",
    "CNOT | (qureg[0], qureg[1])  \n",
    "## operate on the second qubit based on the state of the first qubit\n",
    "\n",
    "print_wavefunction(qureg)\n",
    "NOT | qureg[0]\n",
    "print(\"\\n*Apply NOT gate to Q0 \")\n",
    "print_wavefunction(qureg)\n",
    "print(\"\\n*CNOT Q0->Q1\")\n",
    "CNOT | (qureg[0], qureg[1])  ## operate on the second qubit based on the state of the first qubit\n",
    "print_wavefunction(qureg)\n",
    "print(\"\\n*CNOT Q1->Q0\")\n",
    "CNOT | (qureg[1], qureg[0])  \n",
    "print_wavefunction(qureg)\n",
    "del(qureg)"
   ]
  },
  {
   "cell_type": "markdown",
   "metadata": {},
   "source": [
    "#### Syntax for applying gates in ProjectQ\n",
    "\n",
    "* single qubit: \n",
    "\n",
    "  single_op | qubit\n",
    "  \n",
    "* two qubits (control-gates): \n",
    "  \n",
    "  Cop | (Q0, Q1)\n",
    "  \n",
    "  Q0 is the control qubit"
   ]
  },
  {
   "cell_type": "markdown",
   "metadata": {},
   "source": [
    "----------------------\n",
    "## Quantum Random Number Generator\n",
    "\n",
    "If a qubit is in a linear superposition state:\n",
    "$$\n",
    "|\\psi\\rangle = \\frac{1}{\\sqrt{2}}\\Big(|0\\rangle + |1\\rangle \\Big)\n",
    "$$\n",
    "after measurement, it will collapse to $|0\\rangle$ or $|1\\rangle$, each with 50% probability. This is a natural \"true\" random number generator for 0, 1. Classical computers could only produce quasi random generators. \n",
    "\n",
    "We could rotate the qubit back to linear superposition state using Hadamard gate: \n",
    "$$\n",
    "H|0\\rangle = \\frac{1}{\\sqrt{2}}(|0\\rangle + |1\\rangle)\\\\\n",
    "H|1\\rangle = \\frac{1}{\\sqrt{2}}(|0\\rangle - |1\\rangle)\n",
    "$$\n",
    "We could do measurement-> H -> measurement -> H to get multiple random number [0, 1].\n",
    "\n",
    "![](qcrnd.png)"
   ]
  },
  {
   "cell_type": "code",
   "execution_count": 7,
   "metadata": {},
   "outputs": [
    {
     "data": {
      "image/png": "[encoded data removed]",
      "text/plain": [
       "<Figure size 432x288 with 1 Axes>"
      ]
     },
     "metadata": {},
     "output_type": "display_data"
    }
   ],
   "source": [
    "def QRng(m=100):\n",
    "    # allocate one qubit\n",
    "    q1 = eng.allocate_qubit()\n",
    "    R =[]\n",
    "    for i in range(m):\n",
    "        # superposition state\n",
    "        H | q1\n",
    "        # measure\n",
    "        Measure | q1\n",
    "        R.append(int(q1))\n",
    "    eng.flush()\n",
    "    del(q1)\n",
    "    return R\n",
    "R = QRng(1000)\n",
    "plt.hist(R)\n",
    "plt.xlim(-0.2, 1.2)\n",
    "plt.xticks([0.05, 0.95], [0, 1])\n",
    "plt.xlabel(\"Random number\")\n",
    "plt.show()"
   ]
  },
  {
   "cell_type": "markdown",
   "metadata": {},
   "source": [
    "## Generate random number [0, N-1], $2^n = N$ "
   ]
  },
  {
   "cell_type": "code",
   "execution_count": 8,
   "metadata": {},
   "outputs": [
    {
     "name": "stdout",
     "output_type": "stream",
     "text": [
      "[7, 5, 7, 12, 10, 6, 12, 6, 15, 14]\n"
     ]
    }
   ],
   "source": [
    "## Generate random number between [0, 16)\n",
    "def QRngN(m=0, n=4):\n",
    "    # allocate one qubit\n",
    "    q1 = eng.allocate_qubit()\n",
    "    R=[]\n",
    "    for i in range(m):\n",
    "        # single random number \n",
    "        p=0\n",
    "        for j in range(n):\n",
    "            H | q1\n",
    "            Measure | q1\n",
    "            p=2*p+int(q1) ## map bits to base 10 number\n",
    "        R.append(p)\n",
    "    eng.flush()\n",
    "    del(q1)\n",
    "    return R\n",
    "\n",
    "print(QRngN(10)) ## measure 4 times to get a single number. "
   ]
  },
  {
   "cell_type": "markdown",
   "metadata": {},
   "source": [
    "### Exercise: generate random number using multiple qubits\n",
    "We could also directly use multiple qubits. For n qubit, we could create \"maximum\" superposition state: \n",
    "$$\n",
    "|0\\rangle^{\\otimes^n}\\longrightarrow^H |\\psi\\rangle_n =  \\frac{1}{\\sqrt{2}}\\Big(|0\\rangle + |1\\rangle \\Big)\\otimes \\frac{1}{\\sqrt{2}}\\Big(|0\\rangle + |1\\rangle \\Big)\\otimes  \\frac{1}{\\sqrt{2}}\\Big(|0\\rangle + |1\\rangle \\Big)...\\\\\n",
    "$$\n",
    "$$\n",
    "|\\psi\\rangle_3=\\frac{1}{\\sqrt{8}}\\Big(|000\\rangle + |001\\rangle + |010\\rangle + |011\\rangle  +|100\\rangle + |101\\rangle + |110\\rangle + |111\\rangle\\Big)\\\\\n",
    "=\\frac{1}{\\sqrt{8}}\\Big(|0\\rangle_{10} + |1\\rangle_{10} + |2\\rangle_{10}  +|3\\rangle_{10}  +|4\\rangle_{10}+|5\\rangle_{10}  +|6\\rangle_{10}+|7\\rangle_{10}\\Big)\n",
    "$$\n",
    "Now if we measure all the qubits simuataneously, it will collapse to one of the eight state with equal probability. \n",
    "\n",
    "------------------------"
   ]
  },
  {
   "cell_type": "markdown",
   "metadata": {},
   "source": [
    "\n",
    "## Bell state and quantum teleportation\n",
    "\n",
    "The Bell states are for specific maximally entangled quantum states of two qubits.\n",
    "\n",
    "$$\n",
    "|\\Psi\\rangle = \\frac{1}{\\sqrt{2}} \\Big(|00\\rangle + |11\\rangle\\Big)\n",
    "$$\n",
    "The following state, \n",
    "$$\n",
    "|\\Psi\\rangle = \\frac{1}{2}\\Big(|00\\rangle + |01\\rangle + |10\\rangle + |11\\rangle\\Big) = \\frac{1}{\\sqrt{2}}\\Big(|0\\rangle + |1\\rangle \\Big)\\otimes \\frac{1}{\\sqrt{2}}\\Big(|0\\rangle + |1\\rangle \\Big)\n",
    "$$\n",
    "is not an entangled state. \n",
    "\n",
    "Question: how to create such a Bell state from the initial state $|00\\rangle$?\n",
    "\n",
    "\n",
    "\n",
    "![](https://projectq.readthedocs.io/en/latest/_images/bellpair_circuit.png)\n",
    "\n",
    "\n",
    "$$\n",
    "|00\\rangle \\longrightarrow^H \\frac{1}{\\sqrt{2}}\\Big(|0\\rangle + |1\\rangle)|0\\rangle\\Big) \\longrightarrow^{CNOT} \\frac{1}{\\sqrt{2}} \\Big(|00\\rangle + |11\\rangle\\Big)\n",
    "$$"
   ]
  },
  {
   "cell_type": "code",
   "execution_count": 9,
   "metadata": {},
   "outputs": [
    {
     "name": "stdout",
     "output_type": "stream",
     "text": [
      "*Initial state: \n",
      "   |Psi> = 1.00|00> \n",
      "\n",
      "*Entangle the state\n",
      "   |Psi> = 0.71|00> + 0.71|11> \n",
      "\n",
      "Measure the state\n",
      "   |Psi> = 1.00|11> \n"
     ]
    },
    {
     "name": "stderr",
     "output_type": "stream",
     "text": [
      "/anaconda3/lib/python3.6/site-packages/projectq/ops/_gates.py:286: UserWarning: Pending syntax change in future versions of ProjectQ: \n",
      " Measure will be a single qubit gate only. Use `All(Measure) | qureg` instead to measure multiple qubits.\n",
      "  warnings.warn(\"Pending syntax change in future versions of \"\n"
     ]
    }
   ],
   "source": [
    "from projectq import MainEngine\n",
    "eng = MainEngine()\n",
    "print(\"*Initial state: \")\n",
    "\n",
    "bell = eng.allocate_qureg(2)\n",
    "print_wavefunction(bell)\n",
    "print(\"\\n*Entangle the state\")\n",
    "H | bell[0]\n",
    "CNOT | (bell[0], bell[1])\n",
    "print_wavefunction(bell)\n",
    "print(\"\\nMeasure the state\")\n",
    "Measure | bell\n",
    "print_wavefunction(bell)\n",
    "del(bell)"
   ]
  },
  {
   "cell_type": "markdown",
   "metadata": {},
   "source": [
    "--------\n",
    "#### Exercise 1: implement a quatum teleportation\n",
    "![](https://projectq.readthedocs.io/en/latest/_images/teleport_circuit.png)\n",
    "\n",
    "https://projectq.readthedocs.io/en/latest/examples.html"
   ]
  },
  {
   "cell_type": "markdown",
   "metadata": {},
   "source": [
    "#### Exercise2: create a multiple qubit entangled state?\n",
    "\n",
    "$$\n",
    "|\\Psi\\rangle = \\frac{1}{\\sqrt{2}} (|00\\cdots 00\\rangle + |11\\cdots 11\\rangle )\n",
    "$$\n",
    "\n",
    "-----------------"
   ]
  },
  {
   "cell_type": "markdown",
   "metadata": {},
   "source": [
    "## Deutsch-Jozsa algorithm\n",
    "\n",
    "In the Deutsch-Jozsa problem, we are given a black box quantum computer known as an oracle that implements some function \n",
    "$$\n",
    "f:\\{0,1\\}^{n}\\rightarrow \\{0,1\\}. \n",
    "$$ \n",
    "In other words, it takes n-digit binary values as input and produces either a 0 or a 1 as output for each such value. We are promised that the function is either \"constant\" (0 on all outputs or 1 on all outputs) or \"balanced\" (returns 1 for half of the input domain and 0 for the other half); \n",
    "\n",
    "For a two-bit example:\n",
    "* Constant: \n",
    "$$\n",
    "f(00) = f(01) = f(10) = f(11) =1\n",
    "$$\n",
    "* Balanced:\n",
    "$$\n",
    "f(00) = f(01) =0, \\quad f(10) = f(11) =1\n",
    "$$\n",
    "\n",
    "###### For an n-qubit input, in the worst case, one has to check f(x) for $2^n/2$ times. Therefore, the complexity of the Oracle problem is O($2^n$). \n",
    "\n",
    "### Quantum Supremacy / Advantage\n",
    "We will show that using quantum algorithm, we are able to do this in O(n) complexity, i.e., the number of gate operation in the order of n. \n",
    "\n",
    "We assume there is a quantum Oracle\n",
    "\n",
    "$$ U_f |x\\rangle |y\\rangle = |x\\rangle|f(x)\\oplus y\\rangle $$\n",
    "\n",
    "Then the problem could be done by the following quantum circuit (Deutsch-Jozsa algorithm): \n",
    "\n",
    "<img src=\"dja.svg\">\n",
    "\n",
    "One could measure the first n qubit, if it is $|0\\rangle^{\\otimes n}$, f is constant; otherwise, f is constant. \n",
    "###### The total number of gates is 2n+1. The complexity of Quantum Oracle problem is O(n). \n",
    "\n",
    "\n",
    "\n",
    "The algorithm is quite simple as follows.\n",
    "1. Prepare two quantum registers initialized to zero. The first is an $n$-qubit reqister for querying the oracle, and the second is a one-qubit register for storing the answer of the oracle\n",
    "$$\n",
    "|0\\ldots 0\\rangle |1\\rangle\n",
    "$$\n",
    "2. Create the superposition of all input queries in the first register by applying the Hadamard gate to each qubit.\n",
    "$$\n",
    "H^{\\otimes^{n}} |0\\ldots 0\\rangle |1\\rangle = \\frac{1}{\\sqrt{2^n}}\\sum_{i=0}^{2^n-1}|i\\rangle_{10} |1\\rangle \n",
    "$$\n",
    "3. Apply the Hadamard gate to n qubit. This is to store the answer of the oracle in the phase.\n",
    "$$\n",
    "\\frac{1}{\\sqrt{2^n}}\\sum_{i=0}^{2^n-1}|i\\rangle_{10} |0\\rangle \\rightarrow \\frac{1}{\\sqrt{2^{n+1}}}\\sum_{i=0}^{2^n-1}|i\\rangle_{10} ( |0\\rangle - |1\\rangle )\n",
    "$$\n",
    "4. Query the oracle\n",
    "$$\n",
    "U_f\\frac{1}{\\sqrt{2^{n+1}}}\\sum_{i=0}^{2^n-1}|i\\rangle_{10} ( |0\\rangle - |1\\rangle ) \\rightarrow \\frac{1}{\\sqrt{2^{n+1}}}\\sum_{i=0}^{2^n-1}(-1)^{f(i)}|i\\rangle_{10} ( |0\\rangle - |1\\rangle ) \n",
    "$$\n",
    "5. Apply the Hadamard gate to the first n qubits again, \n",
    "\n",
    "6. Measure the first n qubits. \n",
    "$$\n",
    "P(|0\\rangle^{\\otimes^n})=\\Big|\\frac{1}{2^n}\\sum_{x=0}^{2^n-1} (-1)^{f(x)}\\Big|^2\n",
    "$$\n",
    "If it is non-zero, then conclude that the hidden Boolean function is balanced. Otherwise, conclude that it is constant. \n",
    "\n",
    "The correctness of the conclusion of the last step can be explained as follows. \n",
    "\n",
    "When the hidden Boolean function is constant, the quantum states before and after querying the oracle are the same. The inverse of the Hadamard gate is the Hadamard gate itself. Thus, by Step 5, we essentially reverse Step 2 to obtain the initial quantum state of all-zero at the first register.  \n",
    "\n",
    "When the hidden Boolean function is balanced, the quantum state after querying the oracle is orthogonal to the quantum state before querying the oracle. Thus, by Step 5, when reverting the operation, we must end up with a quantum state that is orthogonal to the initial quantum state of all-zero at the first register. This means we should never obtain the all-zero state. \n",
    "\n",
    "\n",
    "For details, please see the wikipedia page: \n",
    "https://en.wikipedia.org/wiki/Deutsch%E2%80%93Jozsa_algorithm\n",
    "\n",
    "### Two-qubit example (Deutsch's algorithm)\n",
    "Deutsch's algorithm is a special case of the general Deutsch–Jozsa algorithm. We need to check the condition $f(0)=f(1)$. It is equivalent to check $f(0)\\oplus f(1)$ (where  $\\oplus$  is addition modulo 2, which can also be viewed as a quantum XOR gate implemented as a Controlled NOT gate), if zero, then $f$ is constant, otherwise $f$ is not constant.\n",
    "\n",
    "We begin with the two-qubit state (the second qubit is needed to create interference)\n",
    "\n",
    "$$|\\Psi_0\\rangle = |0\\rangle |1\\rangle$$.   \n",
    "\n",
    "* apply a Hadamard transform to each qubit. This yields\n",
    "\n",
    "$$|\\Psi_1\\rangle ={\\frac  {1}{2}}(|0\\rangle +|1\\rangle )(|0\\rangle -|1\\rangle ).$$\n",
    "\n",
    "\n",
    "* apply Oracle: we are given a quantum implementation of the Oracle function $f$ that maps $U_f|x\\rangle |y\\rangle \\to |x\\rangle |f(x)\\oplus y\\rangle$. \n",
    "\n",
    "\n",
    "$$U_f|\\Psi_1\\rangle = {\\frac{1}{2}}\\left(|0\\rangle (|f(0)\\oplus 0\\rangle -|f(0)\\oplus 1\\rangle \\right)+|1\\rangle \\left(|f(1)\\oplus 0\\rangle -|f(1)\\oplus 1\\rangle \\right)\\\\\n",
    "=\\frac{1}{2}((-1)^{f(0)}|0\\rangle (|0\\rangle - |1\\rangle + (-1)^{-1}|1\\rangle (|0\\rangle - |1\\rangle))\\\\\n",
    "=(-1)^{f(0)}\\frac{1}{2}\\left(|0\\rangle + (-1)^{f(0)\\oplus f(1)}|1\\rangle\\right)(|0\\rangle - |1\\rangle)\n",
    ".$$\n",
    "\n",
    "We ignore the last bit and the global phase and therefore have the state\n",
    "\n",
    "$$|\\Psi_{Q_0}\\rangle= \\frac {1}{\\sqrt {2}}(|0\\rangle +(-1)^{f(0)\\oplus f(1)}|1\\rangle ).$$\n",
    "\n",
    "\n",
    "* Applying a Hadamard transform to this state we have\n",
    "\n",
    "$$H|\\Psi_{Q_0}\\rangle = \\frac  {1}{2}(|0\\rangle +|1\\rangle +(-1)^{{f(0)\\oplus f(1)}}|0\\rangle -(-1)^{{f(0)\\oplus f(1)}}|1\\rangle )\\\\ ={\\frac  {1}{2}}\\Big([1+(-1)^{{f(0)\\oplus f(1)}}]|0\\rangle +[1-(-1)^{{f(0)\\oplus f(1)}}]|1\\rangle \\Big).$$\n",
    "\n",
    "We see that \n",
    "\n",
    "* if $f(0)=f(1)$, \n",
    "$$|\\Psi_f\\rangle = \\frac{1}{\\sqrt{2}}|0\\rangle(|0\\rangle -|1\\rangle )$$\n",
    "* if $f(0)\\ne f(1)$, \n",
    "$$|\\Psi_f\\rangle = \\frac{1}{\\sqrt{2}}|1\\rangle(|0\\rangle -|1\\rangle )$$\n"
   ]
  },
  {
   "cell_type": "code",
   "execution_count": 10,
   "metadata": {},
   "outputs": [
    {
     "name": "stdout",
     "output_type": "stream",
     "text": [
      "\n",
      "*Inital state |01>: \n",
      "   |Psi> = 1.00|01> \n",
      "\n",
      "*Apply Hadamard to each qubit: \n",
      "   |Psi> = 0.50|00> -0.50|01> + 0.50|10> -0.50|11> \n",
      "\n",
      "*Apply Oracle: \n",
      "   Balanced oracle: f(0)=0, f(1)=1\n",
      "   |Psi> = 0.50|00> -0.50|01> -0.50|10> + 0.50|11> \n",
      "\n",
      "*Apply Hadamard to Q0\n",
      "   |Psi> = 0.71|10> -0.71|11> \n",
      "\n",
      "*Measure the first qubit\n",
      "   |Psi> = 1.00|10> \n"
     ]
    },
    {
     "name": "stderr",
     "output_type": "stream",
     "text": [
      "/anaconda3/lib/python3.6/site-packages/projectq/ops/_gates.py:286: UserWarning: Pending syntax change in future versions of ProjectQ: \n",
      " Measure will be a single qubit gate only. Use `All(Measure) | qureg` instead to measure multiple qubits.\n",
      "  warnings.warn(\"Pending syntax change in future versions of \"\n"
     ]
    }
   ],
   "source": [
    "# initialize variables\n",
    "from projectq import MainEngine\n",
    "eng = MainEngine()\n",
    "nqubits=2\n",
    "mask='02b'\n",
    "# allocate qubits\n",
    "qureg = eng.allocate_qureg(nqubits)\n",
    "NOT | qureg[1]\n",
    "\n",
    "def Oracle(qureg, f=[0, 1]):\n",
    "    if (f[0]==f[1]):\n",
    "        print(\"   Constant oracle: f(0)=f(1)=%s\"%(f[0]))\n",
    "        if (f==1):\n",
    "            NOT | qureg[1]\n",
    "        return\n",
    "    print(\"   Balanced oracle: f(0)=%s, f(1)=%s\"%(f[0], f[1]))\n",
    "    if f[0]==0:\n",
    "        CNOT | (qureg[0], qureg[1])\n",
    "    else:\n",
    "        CNOT | (qureg[0], qureg[1])\n",
    "        NOT | qureg[1]\n",
    "    return \n",
    "print(\"\\n*Inital state |01>: \")\n",
    "print_wavefunction(qureg)\n",
    "print(\"\\n*Apply Hadamard to each qubit: \")\n",
    "# apply gates\n",
    "H | qureg[0]\n",
    "H | qureg[1]\n",
    "print_wavefunction(qureg)\n",
    "\n",
    "print(\"\\n*Apply Oracle: \")\n",
    "\n",
    "Oracle(qureg, f=[0, 1])\n",
    "\n",
    "print_wavefunction(qureg)\n",
    "\n",
    "print(\"\\n*Apply Hadamard to Q0\")\n",
    "H | qureg[0]\n",
    "print_wavefunction(qureg)\n",
    "# measure qubits\n",
    "Measure | qureg\n",
    "print(\"\\n*Measure the first qubit\")\n",
    "print_wavefunction(qureg)\n",
    "del(qureg)"
   ]
  },
  {
   "cell_type": "markdown",
   "metadata": {},
   "source": [
    "### Exercise: Multiple-qubit example"
   ]
  },
  {
   "cell_type": "code",
   "execution_count": 11,
   "metadata": {},
   "outputs": [
    {
     "name": "stdout",
     "output_type": "stream",
     "text": [
      "\n",
      "*Initial wave function\n",
      "   |Psi> = 1.00|00001> \n",
      "\n",
      "*Applying Hadamard\n",
      "   |Psi> = 0.18|00000> -0.18|00001> + 0.18|00010> -0.18|00011> + 0.18|00100> -0.18|00101> + 0.18|00110> -0.18|00111> + 0.18|01000> -0.18|01001> + 0.18|01010> -0.18|01011> + 0.18|01100> -0.18|01101> + 0.18|01110> -0.18|01111> + 0.18|10000> -0.18|10001> + 0.18|10010> -0.18|10011> + 0.18|10100> -0.18|10101> + 0.18|10110> -0.18|10111> + 0.18|11000> -0.18|11001> + 0.18|11010> -0.18|11011> + 0.18|11100> -0.18|11101> + 0.18|11110> -0.18|11111> \n",
      "\n",
      "*Applying Oracle\n",
      "   |Psi> = 0.18|00000> -0.18|00001> + 0.18|00010> -0.18|00011> -0.18|00100> + 0.18|00101> -0.18|00110> + 0.18|00111> -0.18|01000> + 0.18|01001> -0.18|01010> + 0.18|01011> + 0.18|01100> -0.18|01101> + 0.18|01110> -0.18|01111> + 0.18|10000> -0.18|10001> + 0.18|10010> -0.18|10011> -0.18|10100> + 0.18|10101> -0.18|10110> + 0.18|10111> -0.18|11000> + 0.18|11001> -0.18|11010> + 0.18|11011> + 0.18|11100> -0.18|11101> + 0.18|11110> -0.18|11111> \n",
      "\n",
      "*Applying Hadamard\n",
      "   |Psi> = 0.71|01100> -0.71|01101> \n",
      "\n",
      "*Measure\n",
      "   |Psi> = 1.00|01100> \n"
     ]
    },
    {
     "name": "stderr",
     "output_type": "stream",
     "text": [
      "/anaconda3/lib/python3.6/site-packages/projectq/ops/_gates.py:286: UserWarning: Pending syntax change in future versions of ProjectQ: \n",
      " Measure will be a single qubit gate only. Use `All(Measure) | qureg` instead to measure multiple qubits.\n",
      "  warnings.warn(\"Pending syntax change in future versions of \"\n"
     ]
    }
   ],
   "source": [
    "from projectq import MainEngine \n",
    "eng = MainEngine()\n",
    "n=4\n",
    "def BalancedOracleSEED(n=10):\n",
    "    return np.random.randint(1, 2**n)\n",
    "f=np.zeros(2**n)\n",
    "s=BalancedOracleSEED(n)\n",
    "def QuantumOracle(qureg, type='balanced', ind=s):\n",
    "    n=len(qureg)-1\n",
    "    if (type=='balanced'):    \n",
    "        for i in range(n):\n",
    "            if (ind & (1 << i)):\n",
    "                CNOT | (qureg[i], qureg[n])\n",
    "        return\n",
    "    elif (type=='0'):\n",
    "        return \n",
    "    else:\n",
    "        NOT | qureg[n]\n",
    "        return \n",
    "qureg = eng.allocate_qureg(n+1)\n",
    "NOT | qureg[n]\n",
    "print(\"\\n*Initial wave function\")\n",
    "print_wavefunction(qureg)\n",
    "for i in range(n):\n",
    "    H | qureg[i]\n",
    "H | qureg[n]\n",
    "print(\"\\n*Applying Hadamard\")\n",
    "print_wavefunction(qureg)\n",
    "print(\"\\n*Applying Oracle\")\n",
    "QuantumOracle(qureg, 'balanced', ind=s)\n",
    "print_wavefunction(qureg)\n",
    "print(\"\\n*Applying Hadamard\")\n",
    "for i in range(n):\n",
    "    H | qureg[i]\n",
    "print_wavefunction(qureg)\n",
    "print(\"\\n*Measure\")\n",
    "Measure | qureg\n",
    "print_wavefunction(qureg)\n",
    "del(qureg)"
   ]
  },
  {
   "cell_type": "markdown",
   "metadata": {},
   "source": [
    "--------------------\n",
    "## Exercises: implement 3-qubit Quantum Fourier Transformation from the following circuit\n",
    "\n",
    "* Implementing a four qubit Quantum Fourier Transformation according to the following quantum circuit.\n",
    "![](https://upload.wikimedia.org/wikipedia/commons/thumb/7/79/Q_fourier_3qubits.png/1200px-Q_fourier_3qubits.png)\n",
    "\n",
    "R is a phase operation: \n",
    "$$\n",
    "R_m = \\left(\\begin{matrix}\n",
    "1 & 0 \\\\\n",
    "0 & \\omega_m\n",
    "\\end{matrix}\\right), \\quad \\omega_m = e^{\\frac{2\\pi i}{2^m}}\n",
    "$$"
   ]
  },
  {
   "cell_type": "code",
   "execution_count": 12,
   "metadata": {},
   "outputs": [],
   "source": [
    "from projectq import MainEngine\n",
    "from projectq.ops import H, NOT, CNOT, Measure, Rz, R, CRz, QFT"
   ]
  },
  {
   "cell_type": "markdown",
   "metadata": {
    "collapsed": true
   },
   "source": [
    "----------------\n",
    "## Useful resources\n",
    "* projectq tutorials: https://github.com/ProjectQ-Framework/ProjectQ\n",
    "* Qiskit tutorials: https://github.com/Qiskit/qiskit-tutorial\n",
    "* Quantum altorighm implementations for beginners: https://arxiv.org/pdf/1804.03719.pdf\n"
   ]
  },
  {
   "cell_type": "code",
   "execution_count": null,
   "metadata": {},
   "outputs": [],
   "source": []
  }
 ],
 "metadata": {
  "kernelspec": {
   "display_name": "Python 3",
   "language": "python",
   "name": "python3"
  },
  "language_info": {
   "codemirror_mode": {
    "name": "ipython",
    "version": 3
   },
   "file_extension": ".py",
   "mimetype": "text/x-python",
   "name": "python",
   "nbconvert_exporter": "python",
   "pygments_lexer": "ipython3",
   "version": "3.6.5"
  }
 },
 "nbformat": 4,
 "nbformat_minor": 2
}
