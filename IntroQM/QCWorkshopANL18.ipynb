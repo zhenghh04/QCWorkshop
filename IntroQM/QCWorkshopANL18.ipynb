{
 "cells": [
  {
   "cell_type": "markdown",
   "metadata": {
    "slideshow": {
     "slide_type": "slide"
    }
   },
   "source": [
    "# Resources\n",
    "- Quantum Computing: A Gentle Introduction, Eleanor Rieffel and Wolfgang Polak, MIT Press, Cambridge, MA, 2011. (372 pp.). ISBN 978-0-262-01506-6\n",
    "    - Good starting point\n",
    "- Quantum Computation and Quantum Information: 10th Anniversary Edition, Michael A. Nielsen\tand Isaac L. Chuang, Cambridge University Press New York, NY, USA ©2011 ISBN:1107002176\n",
    "    - The standard textbook for quantum computing\n",
    "- Postulate of quantum mechanics: http://web.mit.edu/8.05/handouts/jaffe1.pdf\n",
    "    - Mathematical formalism for quantum mechanics\n",
    "    - A bit heavy, but nice for getting a handle on the physics that underly quantum computing\n"
   ]
  },
  {
   "cell_type": "code",
   "execution_count": null,
   "metadata": {
    "slideshow": {
     "slide_type": "slide"
    }
   },
   "outputs": [],
   "source": [
    "#Import the needed packages\n",
    "#If this works, (no errors), everything should be installed correctly\n",
    "%matplotlib inline\n",
    "import numpy as np\n",
    "import matplotlib.pyplot as plt\n",
    "#Import qutip\n",
    "from qutip import *\n",
    "print(\"If you saw no error message, everything should be installed correctly!\")"
   ]
  },
  {
   "cell_type": "markdown",
   "metadata": {
    "ein.tags": "worksheet-0",
    "slideshow": {
     "slide_type": "slide"
    }
   },
   "source": [
    "# Introduction to Quantum Computing\n",
    "## December 10th, 2018\n",
    "## Matthew Otten, otten@anl.gov"
   ]
  },
  {
   "cell_type": "markdown",
   "metadata": {
    "slideshow": {
     "slide_type": "slide"
    }
   },
   "source": [
    "# Goals of this Tutorial\n",
    "- What is Quantum Computing? According to Wikipedia,\n",
    "> Quantum computing is computing using quantum-mechanical phenomena, such as superposition and entanglement\n",
    "- In this tutorial, we will try to develop an understanding of these quantum-mechanical phenomena and how they can be used to do computations\n",
    "    - We will focus on superposition, entanglement, and measurement \n",
    "- We will work off several postulates of quantum mechanics\n",
    "- These postulates were developed by early pioneers in the field based off of experiments\n",
    "- We will accept them as facts and see how the postulates allow for an interesting computing paradigm"
   ]
  },
  {
   "cell_type": "markdown",
   "metadata": {
    "slideshow": {
     "slide_type": "slide"
    }
   },
   "source": [
    "# Flow of the Tutorial\n",
    "- We will use QuTiP, running in this Jupyter notebook, to try to develop intuition for the different effects\n",
    "    - The goal is more to understand the results and less to understand the syntax of QuTiP\n",
    "- It contains both text, giving general explanations, and code blocks which can be executed\n",
    "- I will present the slides and evaluate the code 'live'\n",
    "- Feel free to evaluate the code as we go\n",
    "    - There will be some sections where we will stop for a few minutes giving a chance to 'play' with the code\n",
    "- If you are having trouble running the notebook or installing the code, please let me know"
   ]
  },
  {
   "cell_type": "markdown",
   "metadata": {
    "ein.tags": "worksheet-0",
    "slideshow": {
     "slide_type": "slide"
    }
   },
   "source": [
    "# Outline\n",
    " - History of Quantum Computing\n",
    " - Postulate: State of a Quantum System\n",
    " - Postulate: Evolution of a Quantum System\n",
    " - Postulate: Observables and Measurement\n",
    " - Multiple Quantum Systems\n",
    " - Quantum Teleportation (Exercise)\n",
    " - Noise and Generalization to Density Matrices"
   ]
  },
  {
   "cell_type": "markdown",
   "metadata": {
    "ein.tags": "worksheet-0",
    "slideshow": {
     "slide_type": "slide"
    }
   },
   "source": [
    "# History\n",
    "- 1980-1982 Paul Benioff: \"The computer as a physical system: A microscopic quantum mechanical Hamiltonian model of computers as represented by Turing machines\""
   ]
  },
  {
   "cell_type": "markdown",
   "metadata": {
    "ein.tags": "worksheet-0",
    "slideshow": {
     "slide_type": "fragment"
    }
   },
   "source": [
    "- 1982 Richard Feynman: \"Simulating physics with computers\""
   ]
  },
  {
   "cell_type": "markdown",
   "metadata": {
    "ein.tags": "worksheet-0",
    "slideshow": {
     "slide_type": "fragment"
    }
   },
   "source": [
    "- 1994 Peter Shor: Exponential speedup for prime number factoring"
   ]
  },
  {
   "cell_type": "markdown",
   "metadata": {
    "ein.tags": "worksheet-0",
    "slideshow": {
     "slide_type": "fragment"
    }
   },
   "source": [
    "- 1995 Calderbank / Shor / Steane: Quantum error correction"
   ]
  },
  {
   "cell_type": "markdown",
   "metadata": {
    "ein.tags": "worksheet-0",
    "slideshow": {
     "slide_type": "fragment"
    }
   },
   "source": [
    "- 2001 IBM / Stanford: Factor 15 using Shor's prime number factoring"
   ]
  },
  {
   "cell_type": "markdown",
   "metadata": {
    "ein.tags": "worksheet-0",
    "slideshow": {
     "slide_type": "fragment"
    }
   },
   "source": [
    "- 2000s/2010s Many places: More qubits, more types of qubits, more researchers"
   ]
  },
  {
   "cell_type": "markdown",
   "metadata": {
    "ein.tags": "worksheet-0",
    "slideshow": {
     "slide_type": "fragment"
    }
   },
   "source": [
    "- Before 2020? (some form of) quantum supremacy"
   ]
  },
  {
   "cell_type": "markdown",
   "metadata": {
    "ein.tags": "worksheet-0",
    "slideshow": {
     "slide_type": "slide"
    }
   },
   "source": [
    "- ??? Everyday quantum computations"
   ]
  },
  {
   "cell_type": "markdown",
   "metadata": {
    "ein.tags": "worksheet-0",
    "slideshow": {
     "slide_type": "slide"
    }
   },
   "source": [
    "# Postulate: State of a Quantum System\n",
    "#### The state of a quantum system is represented by a unit vector which lives in a Hilbert space $\\mathcal{H}$ of some dimension\n",
    "- That dimension can be finite or infinite\n",
    "- This postulate directly leads to superposition, since a Hilbert space is a vector space\n",
    "   - Given any two wavefunctions $|\\psi_1\\rangle$ and $|\\psi_2\\rangle$ we can define\n",
    "   $$|\\psi_3\\rangle = a |\\psi_1\\rangle + b |\\psi_2\\rangle$$\n",
    "   - where $a$ and $b$ are complex numbers; this is still a valid wavefunction\n",
    "- $a$ and $b$ are interpreted as 'probability amplitudes'; the unit vector requirement imposes\n",
    "   $$|a|^2 + |b|^2 = 1$$\n",
    "   - This allows for a probabilistic interpretation of the wave function, which we will explore more later"
   ]
  },
  {
   "cell_type": "markdown",
   "metadata": {
    "ein.tags": "worksheet-0",
    "slideshow": {
     "slide_type": "slide"
    }
   },
   "source": [
    "# Qubits\n",
    "- Define a (complex) Hilbert space of dimension 2\n",
    "- We will use $|0\\rangle$ and $|1\\rangle$ as our basis states\n",
    "- Any wavefunction in this Hilbert space can be written, in this basis, as\n",
    "$$|\\psi\\rangle = a |0\\rangle + b |1 \\rangle$$\n",
    "- We can also represent our wavefunctions in the language of linear algebra:\n",
    "$$|0\\rangle = \\begin{bmatrix} 1 \\\\ 0 \\end{bmatrix}$$\n",
    "$$|1\\rangle = \\begin{bmatrix} 0 \\\\ 1 \\end{bmatrix}$$\n",
    "$$|\\psi\\rangle = a |0\\rangle + b |1\\rangle = \\begin{bmatrix} a \\\\ b \\end{bmatrix}$$"
   ]
  },
  {
   "cell_type": "markdown",
   "metadata": {
    "ein.tags": "worksheet-0",
    "slideshow": {
     "slide_type": "slide"
    }
   },
   "source": [
    "- We can also visualize the state of the qubit by plotting it on the 'Bloch sphere'\n",
    "  - Rewrite the wavefunction as:\n",
    "  $$|\\psi\\rangle = \\cos\\Big(\\frac{\\theta}{2}\\Big) |0\\rangle + e^{i\\phi} \\sin\\Big(\\frac{\\theta}{2}\\Big) |1\\rangle$$"
   ]
  },
  {
   "cell_type": "code",
   "execution_count": null,
   "metadata": {
    "autoscroll": false,
    "ein.hycell": false,
    "ein.tags": "worksheet-0",
    "slideshow": {
     "slide_type": "slide"
    }
   },
   "outputs": [],
   "source": [
    "\n",
    "#Create a new Bloch sphere object\n",
    "b = Bloch()\n",
    "\n",
    "#Show the blank Bloch sphere\n",
    "b.show()"
   ]
  },
  {
   "cell_type": "markdown",
   "metadata": {
    "ein.tags": "worksheet-0",
    "slideshow": {
     "slide_type": "slide"
    }
   },
   "source": [
    "- Notice that the North and South poles are labeled $|0\\rangle$ and $|1\\rangle$\n",
    "    - These are the basis states we defined earlier\n",
    "- However, there are two more axes besides that\n",
    "- These arise from (and represent) *superposition*.\n",
    "- Let's plot a few states on the Bloch sphere"
   ]
  },
  {
   "cell_type": "code",
   "execution_count": null,
   "metadata": {
    "autoscroll": false,
    "ein.hycell": false,
    "ein.tags": "worksheet-0",
    "slideshow": {
     "slide_type": "slide"
    }
   },
   "outputs": [],
   "source": [
    "plt.close(b.fig) #Close the previous figure\n",
    "#Define a wavefunction that is just |0>\n",
    "#In QuTiP notation, we use the 'basis' function\n",
    "#basis(n,m) means |m> in a Hilbert space of size n\n",
    "zero = basis(2,0)\n",
    "one  = basis(2,1)\n",
    "#Plot the state |0>\n",
    "b.add_states(zero)\n",
    "b.render() #Will render the new figure with the new vector plotted"
   ]
  },
  {
   "cell_type": "code",
   "execution_count": null,
   "metadata": {
    "autoscroll": false,
    "ein.hycell": false,
    "ein.tags": "worksheet-0",
    "slideshow": {
     "slide_type": "slide"
    }
   },
   "outputs": [],
   "source": [
    "plt.close(b.fig)\n",
    "#Plot the state |1>\n",
    "b.add_states(one)\n",
    "b.render()"
   ]
  },
  {
   "cell_type": "markdown",
   "metadata": {
    "slideshow": {
     "slide_type": "slide"
    }
   },
   "source": [
    "- Generally, we require $|a|^2 + |b|^2 = 1$; this gives us unit length and ensures we stay on the surface of the Bloch sphere. QuTiP has a .unit() method which will automatically normalize any wavefunction we pass to it."
   ]
  },
  {
   "cell_type": "code",
   "execution_count": null,
   "metadata": {
    "autoscroll": false,
    "ein.hycell": false,
    "ein.tags": "worksheet-0",
    "slideshow": {
     "slide_type": "slide"
    }
   },
   "outputs": [],
   "source": [
    "plt.close(b.fig)\n",
    "#Now, let's plot an equal superposition of |0> and |1>\n",
    "#We use .unit() to give us a normalized wavefunction\n",
    "b.add_states((zero+one).unit())\n",
    "b.render()"
   ]
  },
  {
   "cell_type": "markdown",
   "metadata": {
    "slideshow": {
     "slide_type": "slide"
    }
   },
   "source": [
    "- We can see the superposition directly from the Bloch sphere\n",
    "- Classical bits can only be 0 or 1\n",
    "- Our qubits, living in their Hilbert space, can be $|0\\rangle$, $|1\\rangle$ and combinations thereof\n",
    "- In fact, given that our coefficients $a$ and $b$ can be real or complex, there are a multitude of equal superposition states of $|0\\rangle$ and $|1\\rangle$"
   ]
  },
  {
   "cell_type": "code",
   "execution_count": null,
   "metadata": {
    "slideshow": {
     "slide_type": "slide"
    }
   },
   "outputs": [],
   "source": [
    "plt.close(b.fig)\n",
    "#Another possible equal superposition is |0> + i *|1>\n",
    "b.add_states((zero+1.j*one).unit())\n",
    "b.render()"
   ]
  },
  {
   "cell_type": "code",
   "execution_count": null,
   "metadata": {
    "slideshow": {
     "slide_type": "slide"
    }
   },
   "outputs": [],
   "source": [
    "plt.close(b.fig)\n",
    "\n",
    "#Feel free to execute this slide a few times with different wavefunctions\n",
    "\n",
    "#Let's plot a point not on an axis\n",
    "#Remember, .unit() gives us the appropriate normalization, so we can use arbitrary a and b here\n",
    "b.add_states((-0.5j*zero+(0.4+0.4j)*one).unit())\n",
    "b.render()"
   ]
  },
  {
   "cell_type": "markdown",
   "metadata": {
    "slideshow": {
     "slide_type": "slide"
    }
   },
   "source": [
    "# Postulate: Evolution of a Quantum System\n",
    "\n",
    "#### Quantum systems evolve in time under the action of linear unitary operators.\n",
    "\n",
    "- This postulate leads to the Schrodinger equation\n",
    "$$ i \\hbar \\frac{d}{dt} |\\psi(t)\\rangle = H |\\psi(t)\\rangle$$\n",
    "  - where $H$ is a Hermitian operator\n",
    "- Unitary operators are norm-conserving\n",
    "    - Meaning we stay on the surface of the Bloch sphere if we started there\n",
    "- In the context of quantum computing, the action of a unitary operator is something we can use to change to state of the qubit as part of an algorithm.\n",
    "  - These are commonly known as 'gates'\n",
    "- There are many possible single qubit gates - any $2\\times 2$ unitary operator can be considered a 'gate' \n",
    "  - Special sets of single qubit gates are capable of representing any possible single qubit gate\n",
    "  "
   ]
  },
  {
   "cell_type": "markdown",
   "metadata": {
    "slideshow": {
     "slide_type": "slide"
    }
   },
   "source": [
    "- A single qubit gate can be thought of as a rotation on the Bloch sphere\n",
    "- We will visualize the action of several single qubit gates, assuming that they happen instantaneously and perfectly"
   ]
  },
  {
   "cell_type": "markdown",
   "metadata": {
    "slideshow": {
     "slide_type": "slide"
    }
   },
   "source": [
    "   - Pauli X\n",
    "    \n",
    "    $$\\sigma_x = \\begin{bmatrix} 0 && 1 \\\\ 1 && 0 \\end{bmatrix}$$\n",
    "\n",
    "   - Pauli Y\n",
    "\n",
    "    $$\\sigma_y = \\begin{bmatrix} 0 && -i \\\\ i && 0 \\end{bmatrix}$$\n",
    "\n",
    "   - Pauli Z\n",
    "    \n",
    "    $$\\sigma_z = \\begin{bmatrix} 1 && 0 \\\\ 0 && -1 \\end{bmatrix}$$"
   ]
  },
  {
   "cell_type": "markdown",
   "metadata": {
    "slideshow": {
     "slide_type": "slide"
    }
   },
   "source": [
    "   - Hadamard (S-NOT in QuTiP)\n",
    "   \n",
    "    $$H = \\frac{1}{\\sqrt{2}} \\begin{bmatrix} 1 && 1 \\\\ 1 && -1 \\end{bmatrix}$$\n",
    "    \n",
    "   - Identity (of size 2)\n",
    "\n",
    "    $$I_2 = \\begin{bmatrix} 1 && 0 \\\\ 0 && 1 \\end{bmatrix}$$\n",
    "    "
   ]
  },
  {
   "cell_type": "markdown",
   "metadata": {
    "slideshow": {
     "slide_type": "slide"
    }
   },
   "source": [
    "- Some gates take are parameterized, such as rotations along each axis of the Bloch sphere"
   ]
  },
  {
   "cell_type": "markdown",
   "metadata": {
    "slideshow": {
     "slide_type": "slide"
    }
   },
   "source": [
    "   - Rotation about x-axis (Rx)\n",
    "   \n",
    "       $$R_x(\\phi) = \\begin{bmatrix} \\cos\\Big(\\frac{\\phi}{2}\\Big) && -i \\sin\\Big(\\frac{\\phi}{2}\\Big)\n",
    "       \\\\ -i \\sin\\Big(\\frac{\\phi}{2}\\Big) && \\cos\\Big(\\frac{\\phi}{2}\\Big) \\end{bmatrix}$$\n",
    "       \n",
    "   - Rotation about y-axis (Ry)\n",
    "   \n",
    "       $$R_y(\\phi) = \\begin{bmatrix} \\cos\\Big(\\frac{\\phi}{2}\\Big) && -\\sin\\Big(\\frac{\\phi}{2}\\Big)\n",
    "       \\\\ \\sin\\Big(\\frac{\\phi}{2}\\Big) && \\cos\\Big(\\frac{\\phi}{2}\\Big) \\end{bmatrix}$$\n",
    "       \n",
    "   - Rotation about z-axis (Rz)\n",
    "   \n",
    "       $$R_z(\\phi) = \\begin{bmatrix} \\exp\\Big(-i \\frac{\\phi}{2}\\Big) && 0\n",
    "       \\\\ 0 && \\exp\\Big(i \\frac{\\phi}{2}\\Big) \\end{bmatrix}$$\n",
    "   "
   ]
  },
  {
   "cell_type": "markdown",
   "metadata": {
    "slideshow": {
     "slide_type": "slide"
    }
   },
   "source": [
    "    \n",
    "   - Phase rotation\n",
    "       $$R_\\phi (\\phi) = \\begin{bmatrix} 1 && 0\n",
    "       \\\\ 0 && \\exp\\Big(i \\phi \\Big) \\end{bmatrix}$$\n",
    "   - T gate is $R_\\phi (\\pi/8)$\n",
    "   - S gate is $R_\\phi (\\pi/4)$"
   ]
  },
  {
   "cell_type": "code",
   "execution_count": null,
   "metadata": {
    "slideshow": {
     "slide_type": "slide"
    }
   },
   "outputs": [],
   "source": [
    "plt.close(b.fig)\n",
    "#Clear our Bloch sphere\n",
    "b.clear()\n",
    "\n",
    "#Let's start with the zero state and look at how the basic Pauli matrices act on the state\n",
    "#First, let's plot the zero state\n",
    "b.add_states(zero)\n",
    "#We use the .full() method to print only the data of psi; print(zero) will print many other attributes\n",
    "print(\"Wavefunction:\\n\",zero.full())\n",
    "b.render()"
   ]
  },
  {
   "cell_type": "code",
   "execution_count": null,
   "metadata": {
    "slideshow": {
     "slide_type": "slide"
    }
   },
   "outputs": [],
   "source": [
    "plt.close(b.fig)\n",
    "\n",
    "#In QuTiP notation, sigmax() is the Pauli-X matrix\n",
    "#Apply the Pauli-X and plot the resulting state\n",
    "psi = sigmax()*zero\n",
    "b.add_states(psi)\n",
    "print(\"Sigmax:\\n\",sigmax().full())\n",
    "print(\"Wavefunction: \\n\",psi.full())\n",
    "b.render()"
   ]
  },
  {
   "cell_type": "code",
   "execution_count": null,
   "metadata": {
    "slideshow": {
     "slide_type": "slide"
    }
   },
   "outputs": [],
   "source": [
    "plt.close(b.fig)\n",
    "\n",
    "#Apply sigmay()\n",
    "psi = sigmay()*zero\n",
    "b.add_states(psi)\n",
    "print(\"Sigmay:\\n\",sigmay().full())\n",
    "print(\"Wavefunction: \\n\",psi.full())\n",
    "b.render()"
   ]
  },
  {
   "cell_type": "code",
   "execution_count": null,
   "metadata": {
    "slideshow": {
     "slide_type": "slide"
    }
   },
   "outputs": [],
   "source": [
    "plt.close(b.fig)\n",
    "\n",
    "#Apply sigmaz()\n",
    "psi = sigmaz()*zero\n",
    "b.add_states(psi)\n",
    "print(\"Sigmaz:\\n\",sigmaz().full())\n",
    "print(\"Wavefunction: \\n\",psi.full())\n",
    "b.render()"
   ]
  },
  {
   "cell_type": "markdown",
   "metadata": {
    "slideshow": {
     "slide_type": "slide"
    }
   },
   "source": [
    "- The Pauli-X, Pauli-Y, and Pauli-Z gates apply a $\\pi$ rotation about their respective axes \n",
    "- In the case of the $|0\\rangle$ state, Pauli-X and Pauli-Y result in the same final state \n",
    "- Pauli-Z has no effect on the state; it is already on the Z axis, rotating about it does not change the state"
   ]
  },
  {
   "cell_type": "code",
   "execution_count": null,
   "metadata": {
    "slideshow": {
     "slide_type": "slide"
    }
   },
   "outputs": [],
   "source": [
    "plt.close(b.fig)\n",
    "\n",
    "#Clear bloch sphere again\n",
    "b.clear()\n",
    "\n",
    "#Add the zero state\n",
    "b.add_states(zero)\n",
    "\n",
    "#Apply Hadamard to zero state\n",
    "#In QuTiP's language, this is the 'S-NOT' gate\n",
    "psi = snot()*zero\n",
    "print(\"Hadamard: \\n\",snot().full())\n",
    "print(\"Wavefunction: \\n\",psi.full())\n",
    "b.add_states(psi)\n",
    "b.render()"
   ]
  },
  {
   "cell_type": "markdown",
   "metadata": {
    "slideshow": {
     "slide_type": "slide"
    }
   },
   "source": [
    "- The Hadamard gate puts the state in an equal superposition of $|0\\rangle$ and $|1\\rangle$, just like the state we plotted before\n",
    "- It is an important gate in many quantum algorithms since it generates superposition states when starting on $|0\\rangle$ or $|1\\rangle$"
   ]
  },
  {
   "cell_type": "code",
   "execution_count": null,
   "metadata": {
    "slideshow": {
     "slide_type": "slide"
    }
   },
   "outputs": [],
   "source": [
    "plt.close(b.fig)\n",
    "\n",
    "#Let's apply a series of rotations about different axes\n",
    "b.clear()\n",
    "psi = zero\n",
    "#Rotate about y by pi/2\n",
    "psi = ry(np.pi/2)*psi\n",
    "b.add_states(psi)\n",
    "print(\"Ry(pi/2):\\n\",ry(np.pi/2).full())\n",
    "print(\"Wavefunction:\\n\",psi.full())\n",
    "b.render()"
   ]
  },
  {
   "cell_type": "code",
   "execution_count": null,
   "metadata": {
    "slideshow": {
     "slide_type": "slide"
    }
   },
   "outputs": [],
   "source": [
    "plt.close(b.fig)\n",
    "\n",
    "#Rotate about x by pi\n",
    "psi = rx(np.pi)*psi \n",
    "b.add_states(psi)\n",
    "print(\"Rx(pi):\\n\",rx(np.pi).full())\n",
    "print(\"Wavefunction:\\n\",psi.full())\n",
    "b.render()"
   ]
  },
  {
   "cell_type": "code",
   "execution_count": null,
   "metadata": {
    "slideshow": {
     "slide_type": "slide"
    }
   },
   "outputs": [],
   "source": [
    "#We end up at the same place as the Hadamard gate, but the wavefunction is different!\n",
    "print(\"Hadamard: \\n\",snot().full())\n",
    "print(\"Rx(pi)*Ry(pi/2): \\n\",(rx(np.pi)*ry(np.pi/2)).full())\n",
    "b.clear() #For the next cell"
   ]
  },
  {
   "cell_type": "markdown",
   "metadata": {
    "slideshow": {
     "slide_type": "fragment"
    }
   },
   "source": [
    "- The Hadamard gate and the combined rotation of Rx(pi)\\*Ry(pi/2) yield matrices that differ by a *global phase*\n",
    "    - That is, we can multiply Rx(pi)\\*Ry(pi/2) by $i$ and get the Hadamard gate\n",
    "- Acting either on a wavefunction results in wavefunctions that are the same up to a global phase\n",
    "    - But the wavefunctions are the same on the Bloch sphere\n",
    "- Even though the global phase shows up in the wavefunction, it turns out that it cannot be measured"
   ]
  },
  {
   "cell_type": "code",
   "execution_count": null,
   "metadata": {
    "slideshow": {
     "slide_type": "slide"
    }
   },
   "outputs": [],
   "source": [
    "plt.close(b.fig)\n",
    "\n",
    "#Feel free to execute this cell a few times, using different gates\n",
    "\n",
    "#Pauli-x = sigmax()\n",
    "#Pauli-y = sigmay()\n",
    "#Pauli-z = sigmaz()\n",
    "#Hadamard = snot()\n",
    "#Rx(phi) = rx(phi)\n",
    "#Ry(phi) = ry(phi)\n",
    "#Rz(phi) = rz(phi)\n",
    "#R_phi(phi) = phasegate(phi)\n",
    "psi = zero\n",
    "psi = phasegate(np.pi/4)*snot()*psi\n",
    "b.add_states(psi)\n",
    "print(\"Wavefunction:\\n\",psi.full())\n",
    "b.render()"
   ]
  },
  {
   "cell_type": "markdown",
   "metadata": {
    "slideshow": {
     "slide_type": "slide"
    }
   },
   "source": [
    "## Physical Gates\n",
    "\n",
    "- Up until now, we assumed that the gate instantaneously changed the qubit's state\n",
    "- In physical systems, these interactions have to be done using some physical process, such as a laser or microwave pulse and take some amount of time"
   ]
  },
  {
   "cell_type": "markdown",
   "metadata": {
    "slideshow": {
     "slide_type": "slide"
    }
   },
   "source": [
    "# Postulate(s): Observables and Measurement"
   ]
  },
  {
   "cell_type": "markdown",
   "metadata": {
    "slideshow": {
     "slide_type": "slide"
    }
   },
   "source": [
    "#### Every observable (physically measureable quantity) in a Hilbert space is represented by a Hermitian operator in that space\n",
    "\n",
    "- Hermiticity is important because we can only measure real numbers"
   ]
  },
  {
   "cell_type": "markdown",
   "metadata": {
    "slideshow": {
     "slide_type": "slide"
    }
   },
   "source": [
    "#### Any measurement of an observable $A$ can only result in the eigenvalues of $A$ \n",
    "\n",
    "- Leads to 'quantization'; the eigenvalues of a Hermitian operator can generally be discrete"
   ]
  },
  {
   "cell_type": "markdown",
   "metadata": {
    "slideshow": {
     "slide_type": "slide"
    }
   },
   "source": [
    "#### After measurement of a given eigenvalue, the wavefunction of the system is in the corresponding eigenstate\n",
    "\n",
    "- This is often called 'wavefunction collapse' and has many interesting interpretations"
   ]
  },
  {
   "cell_type": "markdown",
   "metadata": {
    "slideshow": {
     "slide_type": "slide"
    }
   },
   "source": [
    "#### A measurement of a given eigenstate $|a_i\\rangle$ happens with probability $|\\langle a_i | \\psi \\rangle|^2$"
   ]
  },
  {
   "cell_type": "markdown",
   "metadata": {
    "slideshow": {
     "slide_type": "slide"
    }
   },
   "source": [
    "- As an example, let's measure in the 'computational basis'; i.e, measure the qubit and see if it is state $|0\\rangle$ or state $|1\\rangle$\n",
    "- Take $|\\psi\\rangle = a |0\\rangle + b |1\\rangle$\n",
    "  - The probability of state $|0\\rangle$ is $|a|^2$ and the probability of state $|1\\rangle$ is $|b|^2$\n",
    "  - After measurement, we will be in either $|0\\rangle$ or $|1\\rangle$\n",
    "- One important aspect of many quantum algorithms is increasing the probability of an interesting state as much as possible\n",
    "    - That is, if the answer to the problem is encoded in $|0\\rangle$, $|a|^2$ should be as close to 1 as possible\n",
    "    - This allows for high probability of measuring the interesting state and is commonly known as interference"
   ]
  },
  {
   "cell_type": "markdown",
   "metadata": {
    "slideshow": {
     "slide_type": "slide"
    }
   },
   "source": [
    "    \n",
    "- We can define an 'expectation value' of some observable as $\\langle \\psi | A | \\psi \\rangle$\n",
    "  - That is, if we prepared many copies of a given quantum state and measured them all, the average result would be the expectation value\n",
    "  - In a real quantum computer, we have to build up the expectation value over many repetitions since the wavefunction 'collapses'\n",
    "  - In a classical simulator of quantum systems, we can evaluate $\\langle \\psi | A | \\psi \\rangle$ using linear algebra\n",
    "    - $\\langle \\psi | = \\Big( | \\psi \\rangle \\Big)^\\dagger$, and is a row vector\n",
    "    - This makes $\\langle \\psi | A | \\psi \\rangle$ a single number, the expected value of the measurements\n",
    "    - The global phase explicitly cancels out in this formula; i.e., take $A$ as the identity operator\n",
    "    $$ \\langle \\Psi | \\Psi \\rangle = \\langle e^{i\\phi} \\psi | e^{-i\\phi} \\psi \\rangle = \\langle \\psi | \\psi \\rangle$$\n",
    "    "
   ]
  },
  {
   "cell_type": "markdown",
   "metadata": {
    "slideshow": {
     "slide_type": "slide"
    }
   },
   "source": [
    "- We will focus only on measuring in the computational basis, as that is the only measurement that many of the currently available quantum computers allow\n",
    "  - Measuring any other observable can be done by applying a specific operator to the state and then measuring in the computational basis"
   ]
  },
  {
   "cell_type": "code",
   "execution_count": null,
   "metadata": {
    "slideshow": {
     "slide_type": "slide"
    }
   },
   "outputs": [],
   "source": [
    "#This function will make a probabilistic measurement in the computational basis of a qubit\n",
    "def measure_comp_basis(psi):\n",
    "    #Get the probability of |0>\n",
    "    prob_0 = np.abs(psi[0][0][0])**2 #[0][0][0] is due to the way QuTiP stores the state\n",
    "    #Get the probability of |1>\n",
    "    prob_1 = np.abs(psi[1][0][0])**2\n",
    "    state = np.random.choice(2,p=[prob_0,prob_1]) #Choose between the two options\n",
    "    if(state==0):\n",
    "        psi = basis(2,0)\n",
    "    elif(state==1):\n",
    "        psi = basis(2,1)\n",
    "    return psi  "
   ]
  },
  {
   "cell_type": "code",
   "execution_count": null,
   "metadata": {
    "slideshow": {
     "slide_type": "slide"
    }
   },
   "outputs": [],
   "source": [
    "#Feel free to try 'measuring' many different times, and with other states\n",
    "psi_s = (zero+one).unit() #Equal superposition of |0> and |1>\n",
    "psi = measure_comp_basis(psi_s)\n",
    "print(\"Wavefunction:\\n\",psi.full())"
   ]
  },
  {
   "cell_type": "code",
   "execution_count": null,
   "metadata": {
    "slideshow": {
     "slide_type": "slide"
    }
   },
   "outputs": [],
   "source": [
    "#Let's run many measurements and take the average\n",
    "n_samples = 1000 #Number of samples\n",
    "measurements = []\n",
    "for i in range(n_samples):\n",
    "    psi = measure_comp_basis(psi_s)\n",
    "    if (psi==one):\n",
    "        measurements.append(1)\n",
    "    elif (psi==zero):\n",
    "        measurements.append(0)\n",
    "ev = np.mean(measurements)\n",
    "print(\"Expectation value: \",ev)"
   ]
  },
  {
   "cell_type": "markdown",
   "metadata": {
    "slideshow": {
     "slide_type": "slide"
    }
   },
   "source": [
    "- The measurement we have done here records a '0' if it is in the state $|0\\rangle$ and a '1' if it is in the state $|1\\rangle$\n",
    "- To measure the expectation value of $\\sigma_z$, we would instead record a '1' if it is the state $|0\\rangle$ and a '-1' if it is in the state $|1\\rangle$ \n",
    "  - This is because the eigenvalues of $\\sigma_z$ are -1 and 1"
   ]
  },
  {
   "cell_type": "code",
   "execution_count": null,
   "metadata": {
    "slideshow": {
     "slide_type": "slide"
    }
   },
   "outputs": [],
   "source": [
    "#Let's, instead, take the expectation value by using the formula <\\psi | A | \\psi>\n",
    "#The corresponding observable operator is \n",
    "# | 0 0 |\n",
    "# | 0 1 |\n",
    "# which is (I_2 - sigmaz())/2\n",
    "measure_comp_operator = (qeye(2) - sigmaz())/2.0\n",
    "\n",
    "#QuTiP has a function 'expect(operator,state)' which gets the expectation value\n",
    "ev = expect(measure_comp_operator,psi_s)\n",
    "print(\"Expectation value: \",ev)"
   ]
  },
  {
   "cell_type": "code",
   "execution_count": null,
   "metadata": {
    "slideshow": {
     "slide_type": "slide"
    }
   },
   "outputs": [],
   "source": [
    "plt.close(b.fig)\n",
    "\n",
    "#We can also visualize the action of the measurement\n",
    "b.clear()\n",
    "#start with our equal superposition state, psi_s\n",
    "b.add_states(psi_s)\n",
    "print(\"Wavefunction:\\n\",psi_s.full())\n",
    "b.render()"
   ]
  },
  {
   "cell_type": "code",
   "execution_count": null,
   "metadata": {
    "slideshow": {
     "slide_type": "slide"
    }
   },
   "outputs": [],
   "source": [
    "plt.close(b.fig)\n",
    "\n",
    "#Feel free to repeat this cell a few times to see the wavefunction 'collapse'\n",
    "psi = measure_comp_basis(psi_s)\n",
    "b.add_states(psi)\n",
    "print(\"Wavefunction:\\n\",psi.full())\n",
    "b.render()"
   ]
  },
  {
   "cell_type": "code",
   "execution_count": null,
   "metadata": {
    "slideshow": {
     "slide_type": "slide"
    }
   },
   "outputs": [],
   "source": [
    "plt.close(b.fig)\n",
    "\n",
    "#Let's try measuring a different state, one which is more one than zero\n",
    "psi_s = (0.2*zero + 0.5*one).unit()\n",
    "b.clear()\n",
    "#Plot the state\n",
    "b.add_states(psi_s)\n",
    "print(\"Wavefunction:\\n\",psi_s.full())\n",
    "b.render()"
   ]
  },
  {
   "cell_type": "code",
   "execution_count": null,
   "metadata": {
    "slideshow": {
     "slide_type": "slide"
    }
   },
   "outputs": [],
   "source": [
    "#Let's run many measurements and take the average\n",
    "n_samples = 1000 #Number of samples\n",
    "measurements = []\n",
    "for i in range(n_samples):\n",
    "    psi = measure_comp_basis(psi_s)\n",
    "    if (psi==one):\n",
    "        measurements.append(1)\n",
    "    elif (psi==zero):\n",
    "        measurements.append(0)\n",
    "ev = np.mean(measurements)\n",
    "ev_expect = expect(measure_comp_operator,psi_s)\n",
    "print(\"Expectation value from measurement average: \",ev)\n",
    "print(\"Expectation value from formula: \",ev_expect)"
   ]
  },
  {
   "cell_type": "code",
   "execution_count": null,
   "metadata": {
    "slideshow": {
     "slide_type": "slide"
    }
   },
   "outputs": [],
   "source": [
    "plt.close(b.fig)\n",
    "\n",
    "#Now, let's rotate the state about the z-axis\n",
    "psi_s = rz(np.pi/2)*psi_s\n",
    "b.clear()\n",
    "#Plot the state\n",
    "b.add_states(psi_s)\n",
    "print(\"Wavefunction:\\n\",psi_s.full())\n",
    "b.render()"
   ]
  },
  {
   "cell_type": "code",
   "execution_count": null,
   "metadata": {
    "slideshow": {
     "slide_type": "slide"
    }
   },
   "outputs": [],
   "source": [
    "#We can measure this state many times, as well\n",
    "#Let's run many measurements and take the average\n",
    "n_samples = 1000 #Number of samples\n",
    "measurements = []\n",
    "for i in range(n_samples):\n",
    "    psi = measure_comp_basis(psi_s)\n",
    "    if (psi==one):\n",
    "        measurements.append(1)\n",
    "    elif (psi==zero):\n",
    "        measurements.append(0)\n",
    "ev = np.mean(measurements)\n",
    "ev_expect = expect(measure_comp_operator,psi_s)\n",
    "print(\"Expectation value from measurement average: \",ev)\n",
    "print(\"Expectation value from formula: \",ev_expect)"
   ]
  },
  {
   "cell_type": "markdown",
   "metadata": {
    "slideshow": {
     "slide_type": "slide"
    }
   },
   "source": [
    "- Even though our state is at a clearly different place on the Bloch sphere, we get the same expectation value between the state before and after rotation! \n",
    "  - We are measuring in the computational basis; this can be thought of as a projection onto the z-axis\n",
    "  - A rotation about the z-axis has no effect on the projection\n",
    "- It's important to note that, due to the collapse of the wavefunction, there is a limit to the amount of information that can be extracted with a single measurement\n",
    "- In the two different wavefunctions we measured just now, we lost the information of the rotation about z\n",
    "    - No matter how many measurements in the computational basis we make, we will never be able to extract the rotation about z\n",
    "    - Furthermore, the state collapses into either $|0\\rangle$ or $|1\\rangle$, meaning that there is no set of operations we can perform after measurement to reconstruct that lost information\n",
    "    "
   ]
  },
  {
   "cell_type": "markdown",
   "metadata": {
    "slideshow": {
     "slide_type": "slide"
    }
   },
   "source": [
    "- If we want to measure other aspects of the wavefunction in the computational basis, we must first apply a unitary operator to rotate the observable into the computational basis, *before measurement*\n",
    "- For example, measuring the projection about the x-axis requires first applying a Hadamard gate, followed by measuring in the computational basis\n",
    "    - This allows us to measure the rotation about the z-axis\n",
    "    - We, however, then lose access to the information we had previously measured\n",
    "    - Generally, to get the location of an arbitrary point on the Bloch sphere, we must make several measurements in  different bases\n",
    "- Measuring along the the projection about the x-axis is left as an exercise"
   ]
  },
  {
   "cell_type": "code",
   "execution_count": null,
   "metadata": {
    "slideshow": {
     "slide_type": "skip"
    }
   },
   "outputs": [],
   "source": [
    "#Exercise\n",
    "plt.close(b.fig)\n",
    "\n",
    "psi_s = (zero + one).unit()\n",
    "b.clear()\n",
    "#Plot the state\n",
    "b.add_states(psi_s)\n",
    "print(\"Wavefunction:\\n\",psi_s.full())\n",
    "b.render()"
   ]
  },
  {
   "cell_type": "code",
   "execution_count": null,
   "metadata": {
    "slideshow": {
     "slide_type": "skip"
    }
   },
   "outputs": [],
   "source": [
    "#Exercise\n",
    "plt.close(b.fig)\n",
    "\n",
    "#Apply Hadamard gate (snot() in QuTiP) before measurement\n",
    "psi_s = snot()*psi_s\n",
    "#Plot the state\n",
    "b.add_states(psi_s)\n",
    "print(\"Wavefunction:\\n\",psi_s.full())\n",
    "b.render()"
   ]
  },
  {
   "cell_type": "code",
   "execution_count": null,
   "metadata": {
    "slideshow": {
     "slide_type": "skip"
    }
   },
   "outputs": [],
   "source": [
    "#Exercise\n",
    "n_samples = 1000 #Number of samples\n",
    "measurements = []\n",
    "for i in range(n_samples):\n",
    "    psi = measure_comp_basis(psi_s)\n",
    "    if (psi==one):\n",
    "        measurements.append(1)\n",
    "    elif (psi==zero):\n",
    "        measurements.append(0)\n",
    "ev = np.mean(measurements)\n",
    "ev_expect = expect(measure_comp_operator,psi_s)\n",
    "print(\"Expectation value from measurement average: \",ev)\n",
    "print(\"Expectation value from formula: \",ev_expect)"
   ]
  },
  {
   "cell_type": "code",
   "execution_count": null,
   "metadata": {
    "slideshow": {
     "slide_type": "skip"
    }
   },
   "outputs": [],
   "source": [
    "#Exercise\n",
    "\n",
    "plt.close(b.fig)\n",
    "\n",
    "#Now let's do a rotation of the state about the z-axis, before we measure\n",
    "psi_s = rz(np.pi/2)*(zero + one).unit()\n",
    "#Plot the state\n",
    "b.add_states(psi_s)\n",
    "print(\"Wavefunction:\\n\",psi_s.full())\n",
    "b.render()"
   ]
  },
  {
   "cell_type": "code",
   "execution_count": null,
   "metadata": {
    "slideshow": {
     "slide_type": "skip"
    }
   },
   "outputs": [],
   "source": [
    "#Exercise\n",
    "\n",
    "plt.close(b.fig)\n",
    "#Apply Hadamard gate (snot() in QuTiP) before measurement\n",
    "psi_s = snot()*psi_s\n",
    "#Plot the state\n",
    "b.add_states(psi_s)\n",
    "print(\"Wavefunction:\\n\",psi_s.full())\n",
    "b.render()"
   ]
  },
  {
   "cell_type": "code",
   "execution_count": null,
   "metadata": {
    "slideshow": {
     "slide_type": "skip"
    }
   },
   "outputs": [],
   "source": [
    "#Exercise\n",
    "\n",
    "#Measure the state\n",
    "n_samples = 1000 #Number of samples\n",
    "measurements = []\n",
    "for i in range(n_samples):\n",
    "    psi = measure_comp_basis(psi_s)\n",
    "    if (psi==one):\n",
    "        measurements.append(1)\n",
    "    elif (psi==zero):\n",
    "        measurements.append(0)\n",
    "ev = np.mean(measurements)\n",
    "ev_expect = expect(measure_comp_operator,psi_s)\n",
    "print(\"Expectation value from measurement average: \",ev)\n",
    "print(\"Expectation value from formula: \",ev_expect)"
   ]
  },
  {
   "cell_type": "markdown",
   "metadata": {
    "slideshow": {
     "slide_type": "slide"
    }
   },
   "source": [
    "# Multiple Qubit Systems\n",
    "- Thought there are some interesting applications of single qubits (quantum sensing, for instance), the more interesting regime is when they interact\n",
    "- Formally, coupling two quantum systems leads to larger Hilbert space describing the possible quantum states, represented by the tensor product of the two smaller Hilbert spaces\n",
    "$$ \\mathcal{H}_{ab} = \\mathcal{H}_a \\otimes \\mathcal{H}_b$$"
   ]
  },
  {
   "cell_type": "markdown",
   "metadata": {
    "slideshow": {
     "slide_type": "slide"
    }
   },
   "source": [
    "- The dimension of the larger Hilbert space is the product of the dimensions of the smaller Hilbert space\n",
    "- For example, the dimension of the Hilbert space representing two qubits is $2\\times2=4$\n",
    "    - The dimension of a four qubit Hilbert space is $2\\times2\\times2\\times2 = 2^4 = 16$\n",
    "    - The dimension of a 50 qubit Hilbert space is $2^{50} = 1.12e15$\n",
    "        - Storing this many complex numbers would require ~18 Petabytes of memory\n",
    "    - The dimension of a 286 qubit Hilbert space is $2^{286} = 1.2e86$\n",
    "        - This is roughly the number of particles in the observable universe\n",
    "- The promise of quantum computers is that this exponential growth of the Hilbert space can be used to do efficient calculations\n",
    "- A brute force simulation (where every element of the state vector is stored at the same time) of 70+ qubits is probably impossible\n",
    "    - Brute force is not the only way!"
   ]
  },
  {
   "cell_type": "markdown",
   "metadata": {
    "slideshow": {
     "slide_type": "slide"
    }
   },
   "source": [
    "## Two Qubit Basis\n",
    "- For a two-qubit system, we have to define a new basis for our linear algebra representation\n",
    "- For one qubit, we had previously:\n",
    "    $$|\\psi\\rangle = a |0\\rangle + b |1\\rangle = \\begin{bmatrix} a \\\\ b \\end{bmatrix}$$\n",
    "- In our new two-qubit basis, we can generally define four possible states:\n",
    "    $$|\\psi\\rangle = a |00\\rangle + b |01\\rangle + c|10\\rangle + d|11\\rangle = \\begin{bmatrix} a \\\\ b \\\\ c \\\\ d\\end{bmatrix}$$\n",
    "    "
   ]
  },
  {
   "cell_type": "markdown",
   "metadata": {
    "slideshow": {
     "slide_type": "slide"
    }
   },
   "source": [
    "- If we restrict ourselves to starting from the definition of a single qubit and the tensor product of the Hilbert spaces, we instead have:\n",
    "    $$|\\psi\\rangle = ( a_1 |0\\rangle + b_1 |1\\rangle ) \\otimes ( a_2 |0\\rangle + b_2 |1\\rangle ) $$\n",
    "    $$= a_1 a_2 |00\\rangle + b_1 a_2 |01\\rangle + a_1 b_2  |10\\rangle + b_1 b_2 |11\\rangle = \\begin{bmatrix} a_1 a_2 \\\\ b_1 a_2 \\\\ a_1 b_2  \\\\ b_1 b_2 \\end{bmatrix}$$\n",
    "- Visualization of the larger Hilbert space is much harder, as it is a higher dimensional object. We will focus on visualizing each qubit on their own Bloch spheres when we need visualization"
   ]
  },
  {
   "cell_type": "code",
   "execution_count": null,
   "metadata": {
    "slideshow": {
     "slide_type": "slide"
    }
   },
   "outputs": [],
   "source": [
    "# First, let's define our wavefunctions for qubit 1 and qubit 2\n",
    "\n",
    "psi_qb1 = (zero + one).unit() #|psi> for qubit 1, using .unit() to get proper normalization\n",
    "psi_qb2 = (zero + one).unit() #|psi> for qubit 2\n",
    "\n",
    "# QuTiP has a 'tensor' function which does the necessary tensor product.\n",
    "psi = tensor(psi_qb1,psi_qb2) #We do not need to normalize here, since the tensor product preserves the norm\n",
    "\n",
    "print(\"Wavefunction for both qubits: \\n\",psi.full())"
   ]
  },
  {
   "cell_type": "code",
   "execution_count": null,
   "metadata": {
    "slideshow": {
     "slide_type": "slide"
    }
   },
   "outputs": [],
   "source": [
    "#Feel free to try many different wavefunctions for qubit 1 and qubit 2\n",
    "\n",
    "psi_qb1 = (0.2*zero + 0.6*one).unit() #|psi> for qubit 1, using .unit() to get proper normalization\n",
    "psi_qb2 = (-0.3j*zero + 0.6j*one).unit() #|psi> for qubit 2\n",
    "\n",
    "psi = tensor(psi_qb1,psi_qb2)\n",
    "\n",
    "print(\"Wavefunction for both qubits: \\n\",psi.full())"
   ]
  },
  {
   "cell_type": "markdown",
   "metadata": {
    "slideshow": {
     "slide_type": "slide"
    }
   },
   "source": [
    "## Single Qubit Gates in the Two Qubit Basis\n",
    "- To do an operation on a single qubit in our pair, we apply the operation to one qubit's part of the Hilbert space while not affecting the other\n",
    "- For example, to apply $\\sigma_x$ to qubit 1 only, we do\n",
    "    $$\\sigma_{x1} = \\sigma_x \\otimes I_2$$\n",
    "- Similarly, to apply $\\sigma_x$ to qubit 2 only, we do\n",
    "    $$\\sigma_{x2} = I_2 \\otimes \\sigma_x$$\n",
    "- Where $I_2$ is the identity matrix of size 2\n",
    "- These operators are $4\\times 4$ matrices"
   ]
  },
  {
   "cell_type": "code",
   "execution_count": null,
   "metadata": {
    "slideshow": {
     "slide_type": "slide"
    }
   },
   "outputs": [],
   "source": [
    "#Let's create a sigmax gate on qubit one in our two qubit space\n",
    "#We again make use of the tensor() function, as well as the \n",
    "#qeye() function (which creates an identity matrix)\n",
    "sigma_x1 = tensor(sigmax(),qeye(2))\n",
    "\n",
    "print(\"sigma_x1: \\n\",sigma_x1.full())"
   ]
  },
  {
   "cell_type": "code",
   "execution_count": null,
   "metadata": {
    "slideshow": {
     "slide_type": "slide"
    }
   },
   "outputs": [],
   "source": [
    "#We can also create a sigmax gate on qubit two\n",
    "sigma_x2 = tensor(qeye(2),sigmax())\n",
    "\n",
    "print(\"sigma_x2: \\n\",sigma_x2.full())"
   ]
  },
  {
   "cell_type": "code",
   "execution_count": null,
   "metadata": {
    "slideshow": {
     "slide_type": "slide"
    }
   },
   "outputs": [],
   "source": [
    "#To see that sigmax1 only affects qubit one, lets first create a wavefunction\n",
    "#where both qubits are in the zero state\n",
    "psi_qb1 = zero\n",
    "psi_qb2 = zero\n",
    "\n",
    "psi = tensor(psi_qb1,psi_qb2)\n",
    "\n",
    "print(\"Wavefunction: \\n\",psi.full())"
   ]
  },
  {
   "cell_type": "code",
   "execution_count": null,
   "metadata": {
    "slideshow": {
     "slide_type": "slide"
    }
   },
   "outputs": [],
   "source": [
    "#Now, let's apply sigma_x1 to our wavefunction\n",
    "psi_x1 = sigma_x1 * psi\n",
    "print(\"sigma_x1 * wavefunction: \\n\",psi_x1.full())\n"
   ]
  },
  {
   "cell_type": "code",
   "execution_count": null,
   "metadata": {
    "slideshow": {
     "slide_type": "fragment"
    }
   },
   "outputs": [],
   "source": [
    "#To make sure this is correct, let's apply the wavefunction directly to psi_qb1 and then take the tensor product\n",
    "psi_x1_2 = tensor(sigmax()*psi_qb1,psi_qb2)\n",
    "\n",
    "print(\"sigma_x1 * wavefunction: \\n\",psi_x1_2.full())"
   ]
  },
  {
   "cell_type": "code",
   "execution_count": null,
   "metadata": {
    "slideshow": {
     "slide_type": "slide"
    }
   },
   "outputs": [],
   "source": [
    "#This works similarly for sigma_x2\n",
    "psi_x2 = sigma_x2 * psi\n",
    "\n",
    "print(\"sigma_x2 * wavefunction: \\n\",psi_x2.full()) "
   ]
  },
  {
   "cell_type": "code",
   "execution_count": null,
   "metadata": {
    "slideshow": {
     "slide_type": "slide"
    }
   },
   "outputs": [],
   "source": [
    "#We can also apply sigmax to both qubits\n",
    "\n",
    "psi_x12 = sigma_x1 * sigma_x2 * psi\n",
    "\n",
    "print(\"sigma_x1 * sigma_x2 * wavefunction: \\n\",psi_x12.full())"
   ]
  },
  {
   "cell_type": "markdown",
   "metadata": {
    "slideshow": {
     "slide_type": "slide"
    }
   },
   "source": [
    "## Three Qubit Basis\n",
    "- Let's compare the general wavefunction for a three-qubit case,\n",
    "    $$|\\psi\\rangle = a |000\\rangle + b |001\\rangle + c |010\\rangle + d |011\\rangle + e |100\\rangle + f |101\\rangle + g |110\\rangle + h |111\\rangle$$ \n",
    "- to the wavefunction from three separate qubits\n",
    "    $$|\\phi\\rangle = ( a_1 |0\\rangle + b_1 |1\\rangle ) \\otimes ( a_2 |0\\rangle + b_2 |1\\rangle ) \\otimes ( a_3 |0\\rangle + b_3 |1\\rangle )$$\n",
    "    $$|\\phi\\rangle = a_1 a_2 a_3 |000\\rangle + b_1 a_2 a_3 |001\\rangle + a_1 b_2 a_3 |010\\rangle + b_1 b_2 a_3 |011\\rangle + a_1 a_2 b_3 |100\\rangle + b_1 a_2 b_3 |101\\rangle + a_1 b_2 b_3 |110\\rangle + b_1 b_2 b_3 |111\\rangle$$ \n",
    "- $|\\psi\\rangle$, the general wavefunction, is described by $2^3=8$ complex numbers\n",
    "- $|\\phi\\rangle$, the wavefunction generated from separate qubits, may have 8 coefficients, but they can be exactly described by $2\\times 3=6$ complex numbers\n",
    "- In general, a wavefunction generated from $n$ separate qubits (through the tensor product) can be described by only $2n$\n",
    "    - This is a linear scaling, not exponential\n",
    "- To look at how to make use of the exponential space, we return to a pair of qubits"
   ]
  },
  {
   "cell_type": "markdown",
   "metadata": {
    "slideshow": {
     "slide_type": "slide"
    }
   },
   "source": [
    "## Separability\n",
    "- The wavefunction of a general two qubit system only has the requirement that it be normalized; that is, that $|a|^2 + |b|^2 + |c|^2 + |d|^2 = 1$\n",
    "- When we start with two separate single qubit wavefunctions, we are adding additional constraints on the parameters of the two qubit wavefunction, namely $a/b = c/d$, or $ad = bc$\n",
    "    - To see this, we return to \n",
    "    $$|\\psi\\rangle = ( a_1 |0\\rangle + b_1 |1\\rangle ) \\otimes ( a_2 |0\\rangle + b_2 |1\\rangle )$$\n",
    "    $$= \\begin{bmatrix} a_1 a_2 \\\\ b_1 a_2 \\\\ a_1 b_2  \\\\ b_1 b_2 \\end{bmatrix}$$\n",
    "    - In this case, $ad = bc = a_1 a_2 b_1 b_2$"
   ]
  },
  {
   "cell_type": "markdown",
   "metadata": {
    "slideshow": {
     "slide_type": "slide"
    }
   },
   "source": [
    "- States which satisfy the constraint $ad = bc$ are called 'separable'\n",
    "- States that violate this constraint are 'special' in that they cannot be written as a tensor product of the two underlying qubit systems' Hilbert spaces\n",
    "- This 'special' quality is called 'entanglement', and serves as the basis for many interesting quantum phenomenon"
   ]
  },
  {
   "cell_type": "markdown",
   "metadata": {
    "slideshow": {
     "slide_type": "slide"
    }
   },
   "source": [
    "\n",
    "- There are many (complex and often confusing) ways to quantify entanglement, but we will use 'concurrence' in these notes\n",
    "    - The general definition of concurrence is a bit involved, but, for our purposes, the following definition is sufficient:\n",
    "    $$C(|\\psi \\rangle) = 2 |ad - bc|$$\n",
    "    - Intuitively, and from the equation, we can see that concurrence directly measures how far away the wavefunction is from being separable\n",
    "    - It is an 'entanglement monotone':\n",
    "        - A value of '0' means there is no entanglement\n",
    "        - A value of '1' means the state is 'maximally' entangled\n",
    "            - 'Maximally entangled' can be thought of 'maximally quantum correlated'\n",
    "        - If the value of $|\\psi\\rangle$ is greater than the value of $|\\phi\\rangle$, then $|\\psi\\rangle$ is more entangled than $|\\phi\\rangle$"
   ]
  },
  {
   "cell_type": "code",
   "execution_count": null,
   "metadata": {
    "slideshow": {
     "slide_type": "slide"
    }
   },
   "outputs": [],
   "source": [
    "#Let's look at the concurrence of some states\n",
    "psi_qb1 = (zero + one).unit() #|psi> for qubit 1, using .unit() to get proper normalization\n",
    "psi_qb2 = (zero + one).unit() #|psi> for qubit 2\n",
    "\n",
    "psi = tensor(psi_qb1,psi_qb2) #We do not need to normalize here, since the tensor product preserves the norm\n",
    "\n",
    "#QuTiP has a function to calculate the concurrence for us automatically\n",
    "print(\"Concurrence: \",concurrence(psi))"
   ]
  },
  {
   "cell_type": "code",
   "execution_count": null,
   "metadata": {
    "slideshow": {
     "slide_type": "slide"
    }
   },
   "outputs": [],
   "source": [
    "#Using a direct tensor product, it does not matter what wavefunctions you try, \n",
    "#the concurrence (and therefore entanglement) will always be zero\n",
    "#Feel free to try many wavefunctions here\n",
    "\n",
    "psi_qb1 = (0.3*zero + 0.4*one).unit() #|psi> for qubit 1, using .unit() to get proper normalization\n",
    "psi_qb2 = (-0.3j*zero + 0.3j*one).unit() #|psi> for qubit 2\n",
    "\n",
    "psi = tensor(psi_qb1,psi_qb2)\n",
    "\n",
    "print(\"Concurrence: \",concurrence(psi))"
   ]
  },
  {
   "cell_type": "code",
   "execution_count": null,
   "metadata": {
    "slideshow": {
     "slide_type": "slide"
    }
   },
   "outputs": [],
   "source": [
    "#Since we have the wavefunction stored in our classical computer, \n",
    "#we can 'hack' the wavefunction 'psi' and directly set the components\n",
    "#Feel free to try many wavefunctions here\n",
    "\n",
    "psi.data.data[0] = 0.3 #Set the |00> component\n",
    "psi.data.data[1] = 0.1 #Set the |01> component\n",
    "psi.data.data[2] = 0.7 #Set the |10> component\n",
    "psi.data.data[3] = 0.1j #Set the |11> component\n",
    "\n",
    "psi = psi.unit() #Make sure to normalize!\n",
    "print(\"Wavefunction: \\n\",psi.full())\n",
    "print(\"Concurrence: \",concurrence(psi))"
   ]
  },
  {
   "cell_type": "code",
   "execution_count": null,
   "metadata": {
    "slideshow": {
     "slide_type": "slide"
    }
   },
   "outputs": [],
   "source": [
    "#We can even try 'random' wavefunctions\n",
    "psi.data.data[0] = np.random.rand() + 1.j*np.random.rand() #Set the |00> component\n",
    "psi.data.data[1] = np.random.rand() + 1.j*np.random.rand() #Set the |01> component\n",
    "psi.data.data[2] = np.random.rand() + 1.j*np.random.rand() #Set the |10> component\n",
    "psi.data.data[3] = np.random.rand() + 1.j*np.random.rand() #Set the |11> component\n",
    "\n",
    "psi = psi.unit() #Make sure to normalize!\n",
    "print(\"Wavefunction: \\n\",psi.full())\n",
    "print(\"Concurrence: \",concurrence(psi))"
   ]
  },
  {
   "cell_type": "code",
   "execution_count": null,
   "metadata": {
    "slideshow": {
     "slide_type": "slide"
    }
   },
   "outputs": [],
   "source": [
    "#Let's take the average of many random wavefunctions\n",
    "nsamples = 1000\n",
    "conc = []\n",
    "for i in range(nsamples):\n",
    "    psi.data.data[0] = np.random.rand() + 1.j*np.random.rand() #Set the |00> component\n",
    "    psi.data.data[1] = np.random.rand() + 1.j*np.random.rand() #Set the |01> component\n",
    "    psi.data.data[2] = np.random.rand() + 1.j*np.random.rand() #Set the |10> component\n",
    "    psi.data.data[3] = np.random.rand() + 1.j*np.random.rand() #Set the |11> component\n",
    "\n",
    "    psi = psi.unit() #Make sure to normalize!\n",
    "    conc.append(concurrence(psi))\n",
    "print(\"Average concurrence: \",np.mean(conc))"
   ]
  },
  {
   "cell_type": "markdown",
   "metadata": {
    "slideshow": {
     "slide_type": "slide"
    }
   },
   "source": [
    "- Every state that is constructed from separate one qubit wavefunctions is separable\n",
    "    - This implies that one qubit operations cannot generate entanglement, since they can only change the local state of the qubit\n",
    "- We need to couple the qubits by applying some joint evolution between the two\n",
    "    - Due to the postulate about unitary evolution, it still needs to be a unitary operator\n",
    "    "
   ]
  },
  {
   "cell_type": "markdown",
   "metadata": {
    "slideshow": {
     "slide_type": "slide"
    }
   },
   "source": [
    "- The standard choice is a controlled-NOT gate (CNOT or CX) gate\n",
    " $$CNOT = \\begin{bmatrix} 1 && 0 && 0 && 0 \\\\ 0 && 1 && 0 && 0 \\\\ 0 && 0 && 0 && 1 \\\\ 0 && 0 && 1 && 0 \\end{bmatrix}$$\n",
    "- Similar to an entangled state, the CNOT gate cannot be decomposed into a tensor product of two single qubit gates\n",
    "- There are many other choices for two qubit gates, such as controlled-Z, controlled-Phase, etc\n",
    "    - They all cannot be decomposed into a tensor product of two single qubit gates"
   ]
  },
  {
   "cell_type": "code",
   "execution_count": null,
   "metadata": {
    "slideshow": {
     "slide_type": "slide"
    }
   },
   "outputs": [],
   "source": [
    "#Start with a separable state\n",
    "psi_q1 = zero\n",
    "psi_q2 = zero\n",
    "\n",
    "psi = tensor(psi_q1,psi_q2)\n",
    "\n",
    "print(\"Wavefunction: \\n\",psi.full())"
   ]
  },
  {
   "cell_type": "code",
   "execution_count": null,
   "metadata": {
    "slideshow": {
     "slide_type": "slide"
    }
   },
   "outputs": [],
   "source": [
    "#QuTiP has a CNOT got programmed already\n",
    "print(\"CNOT: \\n\",cnot().full())"
   ]
  },
  {
   "cell_type": "code",
   "execution_count": null,
   "metadata": {
    "slideshow": {
     "slide_type": "slide"
    }
   },
   "outputs": [],
   "source": [
    "#Apply the CNOT gate to psi\n",
    "psi = cnot()*psi\n",
    "\n",
    "print(\"Wavefunction: \\n\",psi.full())"
   ]
  },
  {
   "cell_type": "markdown",
   "metadata": {
    "slideshow": {
     "slide_type": "fragment"
    }
   },
   "source": [
    "- The wavefunction didn't change!\n",
    "- The action of CNOT is to flip the second qubit iff the first qubit is $|1\\rangle$; here we had $|0\\rangle$"
   ]
  },
  {
   "cell_type": "code",
   "execution_count": null,
   "metadata": {
    "slideshow": {
     "slide_type": "slide"
    }
   },
   "outputs": [],
   "source": [
    "#Start with a different wavefunction\n",
    "psi_q1 = one\n",
    "psi_q2 = zero\n",
    "\n",
    "psi = tensor(psi_q1,psi_q2) #construct two qubit wavefunction\n",
    "psi = cnot()*psi #Apply cnot\n",
    "\n",
    "print(\"Wavefunction: \\n\",psi.full())"
   ]
  },
  {
   "cell_type": "code",
   "execution_count": null,
   "metadata": {
    "slideshow": {
     "slide_type": "fragment"
    }
   },
   "outputs": [],
   "source": [
    "#Let's check the concurrence\n",
    "print(\"Concurrence: \",concurrence(psi))"
   ]
  },
  {
   "cell_type": "markdown",
   "metadata": {
    "slideshow": {
     "slide_type": "slide"
    }
   },
   "source": [
    "- Even though the wavefunction changed, the concurrence is still 0\n",
    "- The CNOT gate does not generate entanglement by itself\n",
    "- The controlled-NOT gate flips qubit 2 iff qubit 1 is $|1\\rangle$\n",
    "    - This is a 'classical' effect\n",
    "- What if qubit 1 is not in $|0\\rangle$ or $|1\\rangle$, but is instead in a superposition, harboring the inherent 'quantumness'?"
   ]
  },
  {
   "cell_type": "code",
   "execution_count": null,
   "metadata": {
    "slideshow": {
     "slide_type": "slide"
    }
   },
   "outputs": [],
   "source": [
    "\n",
    "#Start with a different wavefunction\n",
    "psi_q1 = (zero + one).unit() #This time, qubit 1 is in a superposition state\n",
    "psi_q2 = zero\n",
    "\n",
    "psi = tensor(psi_q1,psi_q2) #construct two qubit wavefunction\n",
    "psi = cnot()*psi #Apply cnot\n",
    "\n",
    "print(\"Wavefunction: \\n\",psi.full())\n",
    "print(\"Concurrence: \",concurrence(psi))"
   ]
  },
  {
   "cell_type": "markdown",
   "metadata": {
    "slideshow": {
     "slide_type": "slide"
    }
   },
   "source": [
    "- Two qubit gates allow for the generation of entanglement and, therefore, the use of the exponential number of degrees of freedom in the Hilbert space\n",
    "- For larger numbers of qubits, only one and two qubit gates are needed to create arbitrary entanglement\n",
    "    - Three qubit entanglement can be generated by applying two qubit gates between the different pairs"
   ]
  },
  {
   "cell_type": "markdown",
   "metadata": {
    "slideshow": {
     "slide_type": "slide"
    }
   },
   "source": [
    "## Measurement in Multiqubit Systems\n",
    "- Measurement for multiqubit systems works similarly to single qubit systems\n",
    "- Though there is no restriction for using measurement operators which are non-separable, current quantum computers work off the assumption that each qubit can be measured only in its computational basis\n",
    "- To visualize the effects of measurement on multiqubit systems, we will return to the Bloch sphere visualization\n",
    "- A two qubit Bloch sphere would be a higher dimensional object and cannot be easily visualized\n",
    "- We will instead plot Bloch spheres for the individual qubits\n",
    "     - This loses some amount of interesting information, but is still useful\n",
    "     "
   ]
  },
  {
   "cell_type": "markdown",
   "metadata": {
    "slideshow": {
     "slide_type": "slide"
    }
   },
   "source": [
    "- To go from the multiqubit wavefunction to a state we can plot on the Bloch sphere, we have to use the 'partial trace' operation\n",
    "    - This is like a 'reverse' tensor product\n",
    "- We will not go into detail about the partial trace operation, but it is important to know that the result of a partial trace generates a 'density matrix', instead of a state vector\n",
    "    - A density matrix is a probabilistic generalization of a state vector\n",
    "    - We will get a quick overview of density matrices later\n",
    "    - For now, we will just use them to plot on the Bloch sphere without fully explaining what they are"
   ]
  },
  {
   "cell_type": "code",
   "execution_count": null,
   "metadata": {
    "slideshow": {
     "slide_type": "slide"
    }
   },
   "outputs": [],
   "source": [
    "#Create a new, separable, wave function\n",
    "psi_qb1 = (zero + one).unit() #|psi> for qubit 1, using .unit() to get proper normalization\n",
    "psi_qb2 = (zero + one).unit() #|psi> for qubit 2\n",
    "\n",
    "psi = tensor(psi_qb1,psi_qb2) #We do not need to normalize here, since the tensor product preserves the norm\n",
    "print(\"Wavefunction: \\n\",psi.full())"
   ]
  },
  {
   "cell_type": "code",
   "execution_count": null,
   "metadata": {
    "slideshow": {
     "slide_type": "slide"
    }
   },
   "outputs": [],
   "source": [
    "#Take the partial trace of our wavefunction\n",
    "#In QuTiP, this is done with the ptrace() function\n",
    "#the argument is the number of the system that should be keps\n",
    "psi_qb1_pt = psi.ptrace(0) #Since we count from 0 in python, this keeps the first of two qubits\n",
    "\n",
    "print(\"Partial traced density matrix: \\n\",psi_qb1_pt.full())"
   ]
  },
  {
   "cell_type": "code",
   "execution_count": null,
   "metadata": {
    "slideshow": {
     "slide_type": "slide"
    }
   },
   "outputs": [],
   "source": [
    "plt.close(b.fig)\n",
    "#Instead of a vector, we now have a matrix\n",
    "#To make sure that this is the same as the wavefunction we started with, let's plot on the bloch sphere\n",
    "b.clear()\n",
    "b.add_states(psi_qb1)\n",
    "b.render()"
   ]
  },
  {
   "cell_type": "code",
   "execution_count": null,
   "metadata": {
    "slideshow": {
     "slide_type": "slide"
    }
   },
   "outputs": [],
   "source": [
    "plt.close(b.fig)\n",
    "\n",
    "#Now plot the partial traced state\n",
    "b.clear()\n",
    "b.add_states(psi_qb1_pt)\n",
    "b.render()"
   ]
  },
  {
   "cell_type": "markdown",
   "metadata": {
    "slideshow": {
     "slide_type": "fragment"
    }
   },
   "source": [
    "- We get the same state on the Bloch sphere!"
   ]
  },
  {
   "cell_type": "markdown",
   "metadata": {
    "slideshow": {
     "slide_type": "slide"
    }
   },
   "source": [
    "- To measure in the computational basis, we need the probability of a qubit being in $|0\\rangle$ or $|1\\rangle$\n",
    "- Since our wavefunction now four states, we have to sum probability amplitudes\n",
    "- For example, given $|\\psi\\rangle = a |00\\rangle + b |01\\rangle + c |10\\rangle + d|11\\rangle$, measuring qubit 1 will result in:\n",
    "    - $|0\\rangle$ if the qubit is in $|00\\rangle$ or $|01\\rangle$, with probability $|a|^2 + |b|^2$\n",
    "    - $|1\\rangle$ if the qubit is in $|10\\rangle$ or $|11\\rangle$, with probability $|c|^2 + |d|^2$\n",
    "    - If we measure $|0\\rangle$, we collapse the wavefunction - but only for qubit 1!\n",
    "        - This means we end up in $a|00\\rangle + b |01\\rangle$; the two states where qubit 1 is $|0\\rangle$\n",
    "        - This can be written as $|0\\rangle \\otimes (a |0\\rangle + b|1\\rangle)$ (with appropriate normalization), and is explicitly separable!"
   ]
  },
  {
   "cell_type": "code",
   "execution_count": null,
   "metadata": {
    "slideshow": {
     "slide_type": "slide"
    }
   },
   "outputs": [],
   "source": [
    "#We need to generalize our measurement function to choose which qubit to measure\n",
    "#This function will make a probabilistic measurement in the computational basis of a given qubit\n",
    "#This can generally be done in a more clean way\n",
    "def measure_comp_basis2(psi,qubit):\n",
    "    a = psi[0][0][0]\n",
    "    b = psi[1][0][0]\n",
    "    c = psi[2][0][0]\n",
    "    d = psi[3][0][0]\n",
    "    if (qubit==1):\n",
    "        #Get the probability of |0> for qubit 1\n",
    "        prob_0 = np.abs(a)**2 + np.abs(b)**2\n",
    "        #Get the probability of |1> for qubit 1\n",
    "        prob_1 = np.abs(c)**2 + np.abs(d)**2\n",
    "    elif (qubit==2):\n",
    "        #Get the probability of |0> for qubit 2\n",
    "        prob_0 = np.abs(a)**2 + np.abs(c)**2\n",
    "        #Get the probability of |1> for qubit 2\n",
    "        prob_1 = np.abs(b)**2 + np.abs(d)**2\n",
    "    else:\n",
    "        print(\"Error! Only qubit 1 or qubit 2 can be measured!\")\n",
    "        return psi\n",
    "    state = np.random.choice(2,p=[prob_0,prob_1]) #Choose between the two options\n",
    "    if(state==0):\n",
    "        if(qubit==1):\n",
    "            #We measured |0> on qubit 1\n",
    "            #Resulting state is |0> \\otimes (a |0> + b |1>)\n",
    "            psi = tensor(basis(2,0),a*basis(2,0) + b*basis(2,1))\n",
    "        elif(qubit==2):\n",
    "            #Measured |0> on qubit 2\n",
    "            #Resulting state is (a|0> + c|1>) \\otimes |0>\n",
    "            psi = tensor(a*basis(2,0) + c*basis(2,1),basis(2,0))\n",
    "    elif(state==1):\n",
    "        if(qubit==1):\n",
    "            #Measured |1> on qubit 1\n",
    "            #Resulting state is |1> \\otimes (c |0> + d |1>)\n",
    "            psi = tensor(basis(2,1),c*basis(2,0) + d*basis(2,1))\n",
    "        elif(qubit==2):\n",
    "            #Measured |1> on qubit 2\n",
    "            #Resulting state is (b|0> + d|1>) \\otimes |0>\n",
    "            psi = tensor(b*basis(2,0) + d*basis(2,1),basis(2,1))\n",
    "    return psi.unit() #Be sure to normalize"
   ]
  },
  {
   "cell_type": "code",
   "execution_count": null,
   "metadata": {
    "slideshow": {
     "slide_type": "slide"
    }
   },
   "outputs": [],
   "source": [
    "#Let's first prepare some simple product states to test our measurement routine\n",
    "psi_q1 = (zero+one).unit()\n",
    "psi_q2 = zero\n",
    "\n",
    "psi = tensor(psi_q1,psi_q2) #construct two qubit wavefunction\n",
    "psi = measure_comp_basis2(psi,1)\n",
    "print(\"Wavefunction: \\n\",psi.full())"
   ]
  },
  {
   "cell_type": "markdown",
   "metadata": {
    "slideshow": {
     "slide_type": "slide"
    }
   },
   "source": [
    "- Starting from $(|0\\rangle + |1\\rangle) \\otimes |0\\rangle$, we see that we sometimes end up in $|00\\rangle$ and sometimes end up in $|10\\rangle$. \n",
    "- We can do an analogous operation with qubit 2"
   ]
  },
  {
   "cell_type": "code",
   "execution_count": null,
   "metadata": {
    "slideshow": {
     "slide_type": "fragment"
    }
   },
   "outputs": [],
   "source": [
    "psi_q1 = zero\n",
    "psi_q2 = (zero+one).unit()\n",
    "\n",
    "psi = tensor(psi_q1,psi_q2) #construct two qubit wavefunction\n",
    "psi = measure_comp_basis2(psi,2)\n",
    "print(\"Wavefunction: \\n\",psi.full())"
   ]
  },
  {
   "cell_type": "markdown",
   "metadata": {
    "slideshow": {
     "slide_type": "slide"
    }
   },
   "source": [
    "- Starting from $|0\\rangle \\otimes (|0\\rangle + |1\\rangle)$, we see that we sometimes end up in $|00\\rangle$ and sometimes end up in $|01\\rangle$\n",
    "- Now, let's start both qubits in superposition states, measure one of the qubits and plot the other on its Bloch sphere"
   ]
  },
  {
   "cell_type": "code",
   "execution_count": null,
   "metadata": {
    "slideshow": {
     "slide_type": "slide"
    }
   },
   "outputs": [],
   "source": [
    "plt.close(b.fig)\n",
    "\n",
    "psi_q1 = (zero+one).unit()\n",
    "psi_q2 = (zero+one).unit()\n",
    "\n",
    "psi = tensor(psi_q1,psi_q2)\n",
    "\n",
    "print(\"Wavefunction: \\n\",psi.full())\n",
    "#Get psi_q2's density matrix from the partial trace\n",
    "psi_q2_pt = psi.ptrace(1) #Remember, python (and QuTiP) count from 0\n",
    "print(\"\\n Qubit 2's Bloch Sphere\")\n",
    "b.clear()\n",
    "b.add_states(psi_q2_pt)\n",
    "b.render()"
   ]
  },
  {
   "cell_type": "code",
   "execution_count": null,
   "metadata": {
    "slideshow": {
     "slide_type": "slide"
    }
   },
   "outputs": [],
   "source": [
    "plt.close(b.fig)\n",
    "#Repeat this cell a few times\n",
    "\n",
    "#Now, measure qubit 1\n",
    "psi_s = measure_comp_basis2(psi,1)\n",
    "\n",
    "print(\"Wavefunction: \\n\",psi_s.full())\n",
    "#Get psi_q2's density matrix from the partial trace\n",
    "psi_q2_pt = psi_s.ptrace(1) #Remember, python (and QuTiP) count from 0\n",
    "print(\"\\n Qubit 2's Bloch Sphere\")\n",
    "b.add_states(psi_q2_pt)\n",
    "b.render()"
   ]
  },
  {
   "cell_type": "markdown",
   "metadata": {
    "slideshow": {
     "slide_type": "slide"
    }
   },
   "source": [
    "- Even though the wavefunction is different after measurement, the difference is only in qubit 1's part of the total Hilbert space\n",
    "- This is a separable state, so we do not see any effect on qubit 2"
   ]
  },
  {
   "cell_type": "code",
   "execution_count": null,
   "metadata": {
    "slideshow": {
     "slide_type": "slide"
    }
   },
   "outputs": [],
   "source": [
    "#Now, let's start in an entangled state\n",
    "psi_q1 = (zero+one).unit()\n",
    "psi_q2 = zero\n",
    "\n",
    "psi = tensor(psi_q1,psi_q2)\n",
    "#Apply a CNOT gate to generate entanglement\n",
    "psi = cnot()*psi\n",
    "print(\"Wavefunction: \\n\",psi.full())\n",
    "print(\"Concurrence: \",concurrence(psi))"
   ]
  },
  {
   "cell_type": "code",
   "execution_count": null,
   "metadata": {
    "slideshow": {
     "slide_type": "slide"
    }
   },
   "outputs": [],
   "source": [
    "plt.close(b.fig)\n",
    "\n",
    "#Now, plot the state of qubit 2\n",
    "#Get psi_q2's density matrix from the partial trace\n",
    "psi_q2_pt = psi.ptrace(1) #Remember, python (and QuTiP) count from 0\n",
    "print(\"Partial traced density matrix for qubit 2: \\n\",psi_q2_pt.full())\n",
    "print(\"\\n Qubit 2's Bloch Sphere\")\n",
    "b.clear()\n",
    "b.add_states(psi_q2_pt)\n",
    "b.render()"
   ]
  },
  {
   "cell_type": "markdown",
   "metadata": {
    "slideshow": {
     "slide_type": "slide"
    }
   },
   "source": [
    "- There is nothing plotted! \n",
    "- This isn't a bug, though; it is a result of trying to represent the information from the larger Hilbert space in a smaller one\n",
    "- The qubits are maximally entangled, so all of the information is in the larger Hilbert space\n",
    "- The qubit is in what is called a 'maximally mixed state'\n",
    "- The amount of 'mixing' is another way to define the separability of quantum states"
   ]
  },
  {
   "cell_type": "code",
   "execution_count": null,
   "metadata": {
    "slideshow": {
     "slide_type": "slide"
    }
   },
   "outputs": [],
   "source": [
    "plt.close(b.fig)\n",
    "#Repeat this cell a few times\n",
    "#Now, let's measure qubit 1 and see what happens to qubit 2\n",
    "psi_s = measure_comp_basis2(psi,1)\n",
    "print(\"Wavefunction: \\n\",psi_s.full())\n",
    "#Get psi_q2's density matrix from the partial trace\n",
    "psi_q2_pt = psi_s.ptrace(1) #Remember, python (and QuTiP) count from 0\n",
    "print(\"\\n Qubit 2's Bloch Sphere\")\n",
    "b.add_states(psi_q2_pt)\n",
    "b.render()"
   ]
  },
  {
   "cell_type": "markdown",
   "metadata": {
    "slideshow": {
     "slide_type": "slide"
    }
   },
   "source": [
    "- After measurement, we return to a state on the Bloch sphere\n",
    "- We have 'collapsed' the wavefunction, destroying the entanglement\n",
    "- The only two results we get after measurement are either both qubits in $|00\\rangle$ or both qubits in $|11\\rangle$\n",
    "    - That means, if we measure qubit 1 we know exactly what qubit 2 is!"
   ]
  },
  {
   "cell_type": "markdown",
   "metadata": {
    "slideshow": {
     "slide_type": "slide"
    }
   },
   "source": [
    "## Using these Effects for Computation\n",
    "- We have now covered the basics of superposition, entanglement, and measurement\n",
    "- Hopefully, we now have some intuition for what these terms mean\n",
    "- We have not, however, put them together to do any 'computation', or anything seemingly useful\n",
    "    - This is much more difficult\n",
    "    - One application is quantum teleportation, which is left as an exercise\n",
    "- The tutorials following this one will attempt to clarify how one might use these processes to do useful and efficient computation\n",
    "- We will now turn to a simple description of one of the fundamental problems of quantum computing: noise"
   ]
  },
  {
   "cell_type": "markdown",
   "metadata": {
    "slideshow": {
     "slide_type": "skip"
    }
   },
   "source": [
    "# Quantum Teleportation\n",
    "- We are now armed with the rules of quantum mechanics and we have studied their implications\n",
    "- The question is now whether we can do anything useful (and efficient) with those rules\n",
    "- One task is quantum teleportation: sending the state of a qubit over far distances\n",
    "- The setup is as follows:\n",
    "    - Two experimentalists, Alice and Bob, meet in person and entangle two qubits\n",
    "    - Alice stays in the lab with her qubit, and Bob heads away\n",
    "        - It is assumed that the entanglement never decays\n",
    "    - At some later point, Alice needs to send Bob the state of a qubit that she just created\n",
    "    - Alice does some local operations, calls Bob and tells him the results of her measurements\n",
    "    - Bob then does local operations on his qubits and ends up with the state of the qubit Alice wanted to send\n",
    "- We will use our tools and knowledge developed to carry out this protocol\n"
   ]
  },
  {
   "cell_type": "code",
   "execution_count": null,
   "metadata": {
    "slideshow": {
     "slide_type": "skip"
    }
   },
   "outputs": [],
   "source": [
    "#First, set up a three qubit state\n",
    "psi_A = zero #Alice's qubit\n",
    "psi_B = zero #Bob's qubit\n",
    "#We will initialize the qubit state here for \n",
    "#computational ease, but in an experiment, it need not \n",
    "#exist until later on in the algorithm\n",
    "psi_C = (0.9*zero + 0.1j*one).unit() #qubit state to be teleported\n",
    "\n",
    "psi = tensor(psi_A,psi_B,psi_C) #Tensor of three qubits\n",
    "print(\"Wavefunction: \\n\",psi.full())"
   ]
  },
  {
   "cell_type": "code",
   "execution_count": null,
   "metadata": {
    "slideshow": {
     "slide_type": "skip"
    }
   },
   "outputs": [],
   "source": [
    "#Now, we need to entangle Alice and Bob's qubits\n",
    "#We use tensor(snot(),qeye(2),qeye(2)) to only apply \n",
    "#the hadamard gate to Alice's qubit\n",
    "psi = tensor(snot(),qeye(2),qeye(2))*psi\n",
    "\n",
    "print(\"Wavefunction: \\n\",psi.full())"
   ]
  },
  {
   "cell_type": "code",
   "execution_count": null,
   "metadata": {
    "slideshow": {
     "slide_type": "skip"
    }
   },
   "outputs": [],
   "source": [
    "#We use tensor(cnot(),qeye(2)) to only touch the correct qubits\n",
    "psi = tensor(cnot(),qeye(2))*psi\n",
    "print(\"Wavefunction: \\n\",psi.full())"
   ]
  },
  {
   "cell_type": "code",
   "execution_count": null,
   "metadata": {
    "slideshow": {
     "slide_type": "skip"
    }
   },
   "outputs": [],
   "source": [
    "#To check that Alice and Bob have entangled qubits, we first\n",
    "#partial trace to get just the part of the Hilbert space that\n",
    "#has their qubits\n",
    "psi_ab = psi.ptrace([0,1]) #Keep Alice (0) and Bob's (1) qubits\n",
    "print(\"Concurrence of Alice and Bob's qubits: \",concurrence(psi_ab))"
   ]
  },
  {
   "cell_type": "code",
   "execution_count": null,
   "metadata": {
    "slideshow": {
     "slide_type": "skip"
    }
   },
   "outputs": [],
   "source": [
    "plt.close(b.fig)\n",
    "#Now, Bob goes into the field. Alice created the new qubit state\n",
    "print(\"\\n Qubit to be Teleported's Bloch Sphere\")\n",
    "b.clear()\n",
    "b.add_states(psi_C)\n",
    "b.render()"
   ]
  },
  {
   "cell_type": "code",
   "execution_count": null,
   "metadata": {
    "scrolled": true,
    "slideshow": {
     "slide_type": "skip"
    }
   },
   "outputs": [],
   "source": [
    "plt.close(b.fig)\n",
    "\n",
    "#Alice now does local operations to the new qubit\n",
    "#and her old, entangled qubit\n",
    "\n",
    "#First, she entangles her qubit with the new qubit\n",
    "#By applying a CNOT gate and then a Hadamard gate\n",
    "#Use tensor to only touch Alice and the new qubit (qubit C)\n",
    "psi = tensor(qeye(2),cnot())*psi\n",
    "print(\"Wavefunction: \\n\",psi)\n",
    "\n",
    "#Get psi_C's density matrix from the partial trace\n",
    "psi_C_pt = psi.ptrace(2) #Remember, python (and QuTiP) count from 0\n",
    "print(\"\\n Qubit to be Teleported's Bloch Sphere\")\n",
    "b.clear()\n",
    "b.add_states(psi_C_pt)\n",
    "b.render()"
   ]
  },
  {
   "cell_type": "code",
   "execution_count": null,
   "metadata": {
    "slideshow": {
     "slide_type": "skip"
    }
   },
   "outputs": [],
   "source": [
    "plt.close(b.fig)\n",
    "#The qubit is already maximally mixed\n",
    "#Get Alice's density matrix from the partial trace\n",
    "psi_A_pt = psi.ptrace(0) #Remember, python (and QuTiP) count from 0\n",
    "print(\"\\n Alice's Bloch Sphere\")\n",
    "b.clear()\n",
    "b.add_states(psi_A_pt)\n",
    "b.render()"
   ]
  },
  {
   "cell_type": "code",
   "execution_count": null,
   "metadata": {
    "slideshow": {
     "slide_type": "skip"
    }
   },
   "outputs": [],
   "source": [
    "plt.close(b.fig)\n",
    "#Get Bob's density matrix from the partial trace\n",
    "psi_B_pt = psi.ptrace(1) #Remember, python (and QuTiP) count from 0\n",
    "print(\"\\n Bob's Bloch Sphere\")\n",
    "b.clear()\n",
    "b.add_states(psi_B_pt)\n",
    "b.render()"
   ]
  },
  {
   "cell_type": "markdown",
   "metadata": {
    "slideshow": {
     "slide_type": "skip"
    }
   },
   "source": [
    "- All three qubits are 'maximally mixed', and, therefore 'maximally entangled'"
   ]
  },
  {
   "cell_type": "code",
   "execution_count": null,
   "metadata": {
    "slideshow": {
     "slide_type": "skip"
    }
   },
   "outputs": [],
   "source": [
    "#Now Alice applies more local operations\n",
    "#Apply Hadamard to qubit C\n",
    "psi = tensor(qeye(2),qeye(2),snot())"
   ]
  },
  {
   "cell_type": "code",
   "execution_count": null,
   "metadata": {
    "slideshow": {
     "slide_type": "skip"
    }
   },
   "outputs": [],
   "source": [
    "#Now, Alice needs to measure her qubit and qubit C\n",
    "#It is left as an exercise to perform these measurements - a new function will need to be written"
   ]
  },
  {
   "cell_type": "markdown",
   "metadata": {
    "slideshow": {
     "slide_type": "slide"
    }
   },
   "source": [
    "# Noise in Quantum Computers\n",
    "- Real quantum systems are fragile\n",
    "- They are constantly undergoing processes which destroy the quantum information\n",
    "    - These are non-unitary operations; the information cannot be recovered\n",
    "- These processes happen randomly\n",
    "- To understand the average behavior of a quantum computer, we have to generalize the concept of a wavefunction"
   ]
  },
  {
   "cell_type": "markdown",
   "metadata": {
    "slideshow": {
     "slide_type": "slide"
    }
   },
   "source": [
    "- We will look at a simple single qubit in the $|1\\rangle$ undergoing 'amplitude damping' noise\n",
    "    - This is also called 'spontaneous emission'\n",
    "    - It is a transition from $|1\\rangle$ to $|0\\rangle$\n",
    "- This will happen randomly with a rate $\\gamma$\n",
    "- We will look at individual 'trajectories' (that is, specific random instances), as well as their average"
   ]
  },
  {
   "cell_type": "code",
   "execution_count": null,
   "metadata": {
    "scrolled": true,
    "slideshow": {
     "slide_type": "slide"
    }
   },
   "outputs": [],
   "source": [
    "#Define a qubit initially in the |1> state\n",
    "psi = one\n",
    "\n",
    "decay = destroy(2) #This is the operator that takes the state from |1> to |0>\n",
    "\n",
    "#Try applying the decay operator to psi\n",
    "psi_d = decay*psi\n",
    "print(\"Wavefunction: \\n\",psi_d.full())"
   ]
  },
  {
   "cell_type": "code",
   "execution_count": null,
   "metadata": {
    "slideshow": {
     "slide_type": "slide"
    }
   },
   "outputs": [],
   "source": [
    "#mcsolve is QuTiP's Monte Carlo solver\n",
    "#It will run many random instances of the evolution,\n",
    "#with the decay happening at random times\n",
    "\n",
    "#We do not want any normal 'evolution' of the state, so \n",
    "#we set the hamiltonian to 0\n",
    "H = 0*decay \n",
    "decay_rate = 1.0 #We set a decay rate here\n",
    "#QuTiP will return wavefunctions at specific times\n",
    "times = np.linspace(0.0,10.0,200) \n",
    "\n",
    "#We include the 4th argument as the 'noise term'; \n",
    "#the decay of the excited state\n",
    "\n",
    "data = mcsolve(H, psi, times, [np.sqrt(decay_rate)*decay])"
   ]
  },
  {
   "cell_type": "code",
   "execution_count": null,
   "metadata": {
    "slideshow": {
     "slide_type": "slide"
    }
   },
   "outputs": [],
   "source": [
    "plt.close(b.fig)\n",
    "#The resulting wavefunctions for each random instance \n",
    "#are stored at every time,\n",
    "#But what we really want is whether the wavefunction is in the |1>\n",
    "#or |0> state. We will use our 'expect' operator for this\n",
    "\n",
    "#Let's plot one trajectory\n",
    "#data.states[i] stores the ith trajectory\n",
    "plt.plot(times,expect(measure_comp_operator,data.states[0]))"
   ]
  },
  {
   "cell_type": "code",
   "execution_count": null,
   "metadata": {
    "slideshow": {
     "slide_type": "slide"
    }
   },
   "outputs": [],
   "source": [
    "#Or, we can plot a different trajectory\n",
    "plt.plot(times,expect(measure_comp_operator,data.states[6]))"
   ]
  },
  {
   "cell_type": "code",
   "execution_count": null,
   "metadata": {
    "slideshow": {
     "slide_type": "slide"
    }
   },
   "outputs": [],
   "source": [
    "#We can also plot many states\n",
    "for i in range(40):\n",
    "    plt.plot(times,expect(measure_comp_operator,data.states[i]))"
   ]
  },
  {
   "cell_type": "code",
   "execution_count": null,
   "metadata": {
    "slideshow": {
     "slide_type": "slide"
    }
   },
   "outputs": [],
   "source": [
    "#We can also plot the average over all trajectories\n",
    "#The following line uses python magic to get the average over all states\n",
    "ave = np.mean([expect(measure_comp_operator,data.states[i]) for i in range(data.ntraj)],axis=0)\n",
    "plt.plot(times,ave)"
   ]
  },
  {
   "cell_type": "markdown",
   "metadata": {
    "slideshow": {
     "slide_type": "slide"
    }
   },
   "source": [
    "- Averaging over many trajectories gives us, essentially, the probability that the qubit will be in $|1\\rangle$ at a given time\n",
    "- Rather than running many random trajectories, we can instead directly generalize to a probabilistic evolution, through a density matrix"
   ]
  },
  {
   "cell_type": "markdown",
   "metadata": {
    "slideshow": {
     "slide_type": "slide"
    }
   },
   "source": [
    "## Density Matrix Lindblad Master Equation\n",
    "\\begin{equation*}\n",
    "\\frac{\\partial \\rho}{\\partial t} = - \\frac{i}{\\hbar} [ H,  \\rho ] \n",
    "+\\sum_i \\gamma_i L_i(\\rho),\n",
    "\\end{equation*}\n",
    "- $H$ is the evolution (for quantum computing, think the action of gates)\n",
    "- $L_i$ represents a Lindblad superoperator, or a 'noise operator', with noise strength $\\gamma_i$\n",
    "  $$L_i( \\rho ) = C_i \\rho C_i^\\dagger-\\frac{1}{2}(C_i^\\dagger C_i \\rho + \\rho C_i^\\dagger C_i)$$\n",
    "- The Lindblad superoperator is a non-unitary operator\n",
    "    - The non-unitarity represents the fact we are not tracking every quantum state of the whole universe; information is lost to those untracked states"
   ]
  },
  {
   "cell_type": "code",
   "execution_count": null,
   "metadata": {
    "slideshow": {
     "slide_type": "slide"
    }
   },
   "outputs": [],
   "source": [
    "#Solving the master equation in QuTiP simply involves changing\n",
    "#mcsolve() to mesolve()\n",
    "\n",
    "data = mesolve(H, psi, times, [np.sqrt(decay_rate)*decay])\n",
    "\n",
    "#We need the expectation value of our measurment operator\n",
    "dm_ave = expect(measure_comp_operator,data.states)\n",
    "plt.plot(times,ave,label='Average of Trajectories')\n",
    "plt.plot(times,dm_ave,label='Density Matrix')\n",
    "plt.legend()"
   ]
  },
  {
   "cell_type": "markdown",
   "metadata": {
    "slideshow": {
     "slide_type": "slide"
    }
   },
   "source": [
    "- The density matrix for $N$ qubits is a matrix of size $2^N \\times 2^N$\n",
    "    - This is much greater than the wavefunction!\n",
    "- However, it naturally allows for the inclusion of noise and other physical (but undesirable) properties of quantum computers\n",
    "- QuTiP can solve these problems for small systems, but larger systems require lots of computing resources"
   ]
  },
  {
   "cell_type": "markdown",
   "metadata": {
    "slideshow": {
     "slide_type": "slide"
    }
   },
   "source": [
    "## QuaC\n",
    "- QuaC is a package for solving the time dynamics of general quantum systems using the Lindblad master equation\n",
    "    - This includes noisy quantum computers\n",
    "- It is written in C and built on top of PETSc (ANL), a package of parallel, high performance solvers\n",
    "- It has been used to study \n",
    "    - dissipative driven entanglement in plasmonically coupled quantum dots\n",
    "    - generation of entnagled photons from such systems\n",
    "    - noise in quantum algorithms\n",
    "    - error mititgation methods for noisy quantum computers\n",
    "    "
   ]
  },
  {
   "cell_type": "markdown",
   "metadata": {
    "slideshow": {
     "slide_type": "slide"
    }
   },
   "source": [
    "- Since QuaC is a general purpose quantum dynamics solver, it is not limited to qubits\n",
    "- QuaC could be used, for example, to study a superconducting qubit\n",
    "    - including the quantum system as an explicit anharmonic oscillator\n",
    "    - with microwave pulses as quantum gates\n",
    "    - including many noise sources\n",
    "    - including coupling through resonators\n",
    "- Including quantum systems that have more than three levels greatly increases the computational cost\n",
    "    - small, interesting systems in very high detail are a good choice\n",
    "- https://github.com/0tt3r/QuaC"
   ]
  },
  {
   "cell_type": "markdown",
   "metadata": {
    "slideshow": {
     "slide_type": "slide"
    }
   },
   "source": [
    "# Conclusions\n",
    "- The postulates of quantum mechanics lead to interesting phenomena:\n",
    "    - Superposition, or the ability to be in 'two states at once'\n",
    "    - Collapse of the wavefunction, where measurement causes the state to 'choose'\n",
    "    - Entanglement, where measurement of one qubit effects the state of another\n",
    "- Using these for computation requires a bit of cleverness\n",
    "    - i.e., even if you were in a equal superposition state of hundreds of qubits, one measurement would only give you a random state out of that set\n",
    "        - Probably not useful, unless you wanted a random number!\n",
    "        - Use 'interference' to push probability to the desired state\n",
    "- The restrictions of physical systems also make it tough\n",
    "    - The physical qubits are 'noisy'\n",
    "    - Understanding the effects of noise and how to deal with them is an important research topic"
   ]
  }
 ],
 "metadata": {
  "kernelspec": {
   "display_name": "Python 2",
   "language": "python",
   "name": "python2"
  },
  "language_info": {
   "codemirror_mode": {
    "name": "ipython",
    "version": 2
   },
   "file_extension": ".py",
   "mimetype": "text/x-python",
   "name": "python",
   "nbconvert_exporter": "python",
   "pygments_lexer": "ipython2",
   "version": "2.7.14"
  },
  "livereveal": {
   "scroll": true,
   "transition": "none"
  },
  "name": "QCWorkshopANL18.ipynb"
 },
 "nbformat": 4,
 "nbformat_minor": 2
}
